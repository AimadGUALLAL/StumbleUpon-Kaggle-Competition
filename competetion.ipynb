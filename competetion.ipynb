{
  "nbformat": 4,
  "nbformat_minor": 0,
  "metadata": {
    "interpreter": {
      "hash": "af813deb9b1041a3d218328d61c4f03144072bd904e1ecc31331ca02d8a1185b"
    },
    "kernelspec": {
      "display_name": "Python 3.7.9 64-bit",
      "language": "python",
      "name": "python3"
    },
    "language_info": {
      "codemirror_mode": {
        "name": "ipython",
        "version": 3
      },
      "file_extension": ".py",
      "mimetype": "text/x-python",
      "name": "python",
      "nbconvert_exporter": "python",
      "pygments_lexer": "ipython3",
      "version": "3.7.9"
    },
    "orig_nbformat": 4,
    "colab": {
      "name": "competetion.ipynb",
      "provenance": []
    }
  },
  "cells": [
    {
      "cell_type": "code",
      "metadata": {
        "id": "KkaQ6kYEnXHY"
      },
      "source": [
        "import pandas as pd \n",
        "import numpy as np\n",
        "import seaborn as sns \n"
      ],
      "execution_count": null,
      "outputs": []
    },
    {
      "cell_type": "markdown",
      "metadata": {
        "id": "C427onPcnXHg"
      },
      "source": [
        "## Exploratary Data Analysis"
      ]
    },
    {
      "cell_type": "code",
      "metadata": {
        "id": "MFpMFxxYnXHj"
      },
      "source": [
        "df = pd.read_csv('train.tsv',sep='\\t')"
      ],
      "execution_count": null,
      "outputs": []
    },
    {
      "cell_type": "code",
      "metadata": {
        "id": "I8C-wGsBnXHk",
        "outputId": "4b93c5f9-796b-4368-aaf1-32a34af7c7e9"
      },
      "source": [
        "df.shape"
      ],
      "execution_count": null,
      "outputs": [
        {
          "data": {
            "text/plain": [
              "(7395, 27)"
            ]
          },
          "execution_count": 5,
          "metadata": {},
          "output_type": "execute_result"
        }
      ]
    },
    {
      "cell_type": "code",
      "metadata": {
        "id": "9UYYQOrEnXHn",
        "outputId": "fffff435-dfbd-4072-af2e-cbf6f6988f34"
      },
      "source": [
        "df.head()"
      ],
      "execution_count": null,
      "outputs": [
        {
          "data": {
            "text/html": [
              "<div>\n",
              "<style scoped>\n",
              "    .dataframe tbody tr th:only-of-type {\n",
              "        vertical-align: middle;\n",
              "    }\n",
              "\n",
              "    .dataframe tbody tr th {\n",
              "        vertical-align: top;\n",
              "    }\n",
              "\n",
              "    .dataframe thead th {\n",
              "        text-align: right;\n",
              "    }\n",
              "</style>\n",
              "<table border=\"1\" class=\"dataframe\">\n",
              "  <thead>\n",
              "    <tr style=\"text-align: right;\">\n",
              "      <th></th>\n",
              "      <th>url</th>\n",
              "      <th>urlid</th>\n",
              "      <th>boilerplate</th>\n",
              "      <th>alchemy_category</th>\n",
              "      <th>alchemy_category_score</th>\n",
              "      <th>avglinksize</th>\n",
              "      <th>commonlinkratio_1</th>\n",
              "      <th>commonlinkratio_2</th>\n",
              "      <th>commonlinkratio_3</th>\n",
              "      <th>commonlinkratio_4</th>\n",
              "      <th>...</th>\n",
              "      <th>is_news</th>\n",
              "      <th>lengthyLinkDomain</th>\n",
              "      <th>linkwordscore</th>\n",
              "      <th>news_front_page</th>\n",
              "      <th>non_markup_alphanum_characters</th>\n",
              "      <th>numberOfLinks</th>\n",
              "      <th>numwords_in_url</th>\n",
              "      <th>parametrizedLinkRatio</th>\n",
              "      <th>spelling_errors_ratio</th>\n",
              "      <th>label</th>\n",
              "    </tr>\n",
              "  </thead>\n",
              "  <tbody>\n",
              "    <tr>\n",
              "      <th>0</th>\n",
              "      <td>http://www.bloomberg.com/news/2010-12-23/ibm-p...</td>\n",
              "      <td>4042</td>\n",
              "      <td>{\"title\":\"IBM Sees Holographic Calls Air Breat...</td>\n",
              "      <td>business</td>\n",
              "      <td>0.789131</td>\n",
              "      <td>2.055556</td>\n",
              "      <td>0.676471</td>\n",
              "      <td>0.205882</td>\n",
              "      <td>0.047059</td>\n",
              "      <td>0.023529</td>\n",
              "      <td>...</td>\n",
              "      <td>1</td>\n",
              "      <td>1</td>\n",
              "      <td>24</td>\n",
              "      <td>0</td>\n",
              "      <td>5424</td>\n",
              "      <td>170</td>\n",
              "      <td>8</td>\n",
              "      <td>0.152941</td>\n",
              "      <td>0.079130</td>\n",
              "      <td>0</td>\n",
              "    </tr>\n",
              "    <tr>\n",
              "      <th>1</th>\n",
              "      <td>http://www.popsci.com/technology/article/2012-...</td>\n",
              "      <td>8471</td>\n",
              "      <td>{\"title\":\"The Fully Electronic Futuristic Star...</td>\n",
              "      <td>recreation</td>\n",
              "      <td>0.574147</td>\n",
              "      <td>3.677966</td>\n",
              "      <td>0.508021</td>\n",
              "      <td>0.288770</td>\n",
              "      <td>0.213904</td>\n",
              "      <td>0.144385</td>\n",
              "      <td>...</td>\n",
              "      <td>1</td>\n",
              "      <td>1</td>\n",
              "      <td>40</td>\n",
              "      <td>0</td>\n",
              "      <td>4973</td>\n",
              "      <td>187</td>\n",
              "      <td>9</td>\n",
              "      <td>0.181818</td>\n",
              "      <td>0.125448</td>\n",
              "      <td>1</td>\n",
              "    </tr>\n",
              "    <tr>\n",
              "      <th>2</th>\n",
              "      <td>http://www.menshealth.com/health/flu-fighting-...</td>\n",
              "      <td>1164</td>\n",
              "      <td>{\"title\":\"Fruits that Fight the Flu fruits tha...</td>\n",
              "      <td>health</td>\n",
              "      <td>0.996526</td>\n",
              "      <td>2.382883</td>\n",
              "      <td>0.562016</td>\n",
              "      <td>0.321705</td>\n",
              "      <td>0.120155</td>\n",
              "      <td>0.042636</td>\n",
              "      <td>...</td>\n",
              "      <td>1</td>\n",
              "      <td>1</td>\n",
              "      <td>55</td>\n",
              "      <td>0</td>\n",
              "      <td>2240</td>\n",
              "      <td>258</td>\n",
              "      <td>11</td>\n",
              "      <td>0.166667</td>\n",
              "      <td>0.057613</td>\n",
              "      <td>1</td>\n",
              "    </tr>\n",
              "    <tr>\n",
              "      <th>3</th>\n",
              "      <td>http://www.dumblittleman.com/2007/12/10-foolpr...</td>\n",
              "      <td>6684</td>\n",
              "      <td>{\"title\":\"10 Foolproof Tips for Better Sleep \"...</td>\n",
              "      <td>health</td>\n",
              "      <td>0.801248</td>\n",
              "      <td>1.543103</td>\n",
              "      <td>0.400000</td>\n",
              "      <td>0.100000</td>\n",
              "      <td>0.016667</td>\n",
              "      <td>0.000000</td>\n",
              "      <td>...</td>\n",
              "      <td>1</td>\n",
              "      <td>0</td>\n",
              "      <td>24</td>\n",
              "      <td>0</td>\n",
              "      <td>2737</td>\n",
              "      <td>120</td>\n",
              "      <td>5</td>\n",
              "      <td>0.041667</td>\n",
              "      <td>0.100858</td>\n",
              "      <td>1</td>\n",
              "    </tr>\n",
              "    <tr>\n",
              "      <th>4</th>\n",
              "      <td>http://bleacherreport.com/articles/1205138-the...</td>\n",
              "      <td>9006</td>\n",
              "      <td>{\"title\":\"The 50 Coolest Jerseys You Didn t Kn...</td>\n",
              "      <td>sports</td>\n",
              "      <td>0.719157</td>\n",
              "      <td>2.676471</td>\n",
              "      <td>0.500000</td>\n",
              "      <td>0.222222</td>\n",
              "      <td>0.123457</td>\n",
              "      <td>0.043210</td>\n",
              "      <td>...</td>\n",
              "      <td>1</td>\n",
              "      <td>1</td>\n",
              "      <td>14</td>\n",
              "      <td>0</td>\n",
              "      <td>12032</td>\n",
              "      <td>162</td>\n",
              "      <td>10</td>\n",
              "      <td>0.098765</td>\n",
              "      <td>0.082569</td>\n",
              "      <td>0</td>\n",
              "    </tr>\n",
              "  </tbody>\n",
              "</table>\n",
              "<p>5 rows × 27 columns</p>\n",
              "</div>"
            ],
            "text/plain": [
              "                                                 url  urlid  \\\n",
              "0  http://www.bloomberg.com/news/2010-12-23/ibm-p...   4042   \n",
              "1  http://www.popsci.com/technology/article/2012-...   8471   \n",
              "2  http://www.menshealth.com/health/flu-fighting-...   1164   \n",
              "3  http://www.dumblittleman.com/2007/12/10-foolpr...   6684   \n",
              "4  http://bleacherreport.com/articles/1205138-the...   9006   \n",
              "\n",
              "                                         boilerplate alchemy_category  \\\n",
              "0  {\"title\":\"IBM Sees Holographic Calls Air Breat...         business   \n",
              "1  {\"title\":\"The Fully Electronic Futuristic Star...       recreation   \n",
              "2  {\"title\":\"Fruits that Fight the Flu fruits tha...           health   \n",
              "3  {\"title\":\"10 Foolproof Tips for Better Sleep \"...           health   \n",
              "4  {\"title\":\"The 50 Coolest Jerseys You Didn t Kn...           sports   \n",
              "\n",
              "  alchemy_category_score  avglinksize  commonlinkratio_1  commonlinkratio_2  \\\n",
              "0               0.789131     2.055556           0.676471           0.205882   \n",
              "1               0.574147     3.677966           0.508021           0.288770   \n",
              "2               0.996526     2.382883           0.562016           0.321705   \n",
              "3               0.801248     1.543103           0.400000           0.100000   \n",
              "4               0.719157     2.676471           0.500000           0.222222   \n",
              "\n",
              "   commonlinkratio_3  commonlinkratio_4  ...  is_news  lengthyLinkDomain  \\\n",
              "0           0.047059           0.023529  ...        1                  1   \n",
              "1           0.213904           0.144385  ...        1                  1   \n",
              "2           0.120155           0.042636  ...        1                  1   \n",
              "3           0.016667           0.000000  ...        1                  0   \n",
              "4           0.123457           0.043210  ...        1                  1   \n",
              "\n",
              "   linkwordscore  news_front_page  non_markup_alphanum_characters  \\\n",
              "0             24                0                            5424   \n",
              "1             40                0                            4973   \n",
              "2             55                0                            2240   \n",
              "3             24                0                            2737   \n",
              "4             14                0                           12032   \n",
              "\n",
              "   numberOfLinks  numwords_in_url parametrizedLinkRatio  \\\n",
              "0            170                8              0.152941   \n",
              "1            187                9              0.181818   \n",
              "2            258               11              0.166667   \n",
              "3            120                5              0.041667   \n",
              "4            162               10              0.098765   \n",
              "\n",
              "   spelling_errors_ratio  label  \n",
              "0               0.079130      0  \n",
              "1               0.125448      1  \n",
              "2               0.057613      1  \n",
              "3               0.100858      1  \n",
              "4               0.082569      0  \n",
              "\n",
              "[5 rows x 27 columns]"
            ]
          },
          "execution_count": 6,
          "metadata": {},
          "output_type": "execute_result"
        }
      ]
    },
    {
      "cell_type": "code",
      "metadata": {
        "id": "nvIdaLnunXHp",
        "outputId": "3753dcff-e58f-4888-8c8c-a55fcd5b0747"
      },
      "source": [
        "df.T"
      ],
      "execution_count": null,
      "outputs": [
        {
          "data": {
            "text/html": [
              "<div>\n",
              "<style scoped>\n",
              "    .dataframe tbody tr th:only-of-type {\n",
              "        vertical-align: middle;\n",
              "    }\n",
              "\n",
              "    .dataframe tbody tr th {\n",
              "        vertical-align: top;\n",
              "    }\n",
              "\n",
              "    .dataframe thead th {\n",
              "        text-align: right;\n",
              "    }\n",
              "</style>\n",
              "<table border=\"1\" class=\"dataframe\">\n",
              "  <thead>\n",
              "    <tr style=\"text-align: right;\">\n",
              "      <th></th>\n",
              "      <th>0</th>\n",
              "      <th>1</th>\n",
              "      <th>2</th>\n",
              "      <th>3</th>\n",
              "      <th>4</th>\n",
              "      <th>5</th>\n",
              "      <th>6</th>\n",
              "      <th>7</th>\n",
              "      <th>8</th>\n",
              "      <th>9</th>\n",
              "      <th>...</th>\n",
              "      <th>7385</th>\n",
              "      <th>7386</th>\n",
              "      <th>7387</th>\n",
              "      <th>7388</th>\n",
              "      <th>7389</th>\n",
              "      <th>7390</th>\n",
              "      <th>7391</th>\n",
              "      <th>7392</th>\n",
              "      <th>7393</th>\n",
              "      <th>7394</th>\n",
              "    </tr>\n",
              "  </thead>\n",
              "  <tbody>\n",
              "    <tr>\n",
              "      <th>url</th>\n",
              "      <td>http://www.bloomberg.com/news/2010-12-23/ibm-p...</td>\n",
              "      <td>http://www.popsci.com/technology/article/2012-...</td>\n",
              "      <td>http://www.menshealth.com/health/flu-fighting-...</td>\n",
              "      <td>http://www.dumblittleman.com/2007/12/10-foolpr...</td>\n",
              "      <td>http://bleacherreport.com/articles/1205138-the...</td>\n",
              "      <td>http://www.conveniencemedical.com/genital-herp...</td>\n",
              "      <td>http://gofashionlane.blogspot.tw/2012/06/ameri...</td>\n",
              "      <td>http://www.insidershealth.com/article/racing_f...</td>\n",
              "      <td>http://www.valetmag.com/the-handbook/features/...</td>\n",
              "      <td>http://www.howsweeteats.com/2010/03/24/cookies...</td>\n",
              "      <td>...</td>\n",
              "      <td>http://shopmarkethq.com/collections/brands-min...</td>\n",
              "      <td>http://slice.seriouseats.com/archives/2010/06/...</td>\n",
              "      <td>http://achicdirection.com/2012/01/23/vintage-f...</td>\n",
              "      <td>http://www.villagevoice.com/bestof/2009/award/...</td>\n",
              "      <td>http://www.worth1000.com/emailthis.asp?entry=5...</td>\n",
              "      <td>http://techcrunch.com/2010/09/08/kno-raises-46...</td>\n",
              "      <td>http://www.uncoached.com/category/why-i-miss-c...</td>\n",
              "      <td>http://eatthis.menshealth.com/slide/sweet-pota...</td>\n",
              "      <td>http://naturallyella.com/</td>\n",
              "      <td>http://sportsillustrated.cnn.com/2011_swimsuit...</td>\n",
              "    </tr>\n",
              "    <tr>\n",
              "      <th>urlid</th>\n",
              "      <td>4042</td>\n",
              "      <td>8471</td>\n",
              "      <td>1164</td>\n",
              "      <td>6684</td>\n",
              "      <td>9006</td>\n",
              "      <td>7018</td>\n",
              "      <td>8685</td>\n",
              "      <td>3402</td>\n",
              "      <td>477</td>\n",
              "      <td>6731</td>\n",
              "      <td>...</td>\n",
              "      <td>5419</td>\n",
              "      <td>546</td>\n",
              "      <td>10382</td>\n",
              "      <td>7634</td>\n",
              "      <td>8923</td>\n",
              "      <td>8958</td>\n",
              "      <td>8895</td>\n",
              "      <td>1191</td>\n",
              "      <td>5612</td>\n",
              "      <td>90</td>\n",
              "    </tr>\n",
              "    <tr>\n",
              "      <th>boilerplate</th>\n",
              "      <td>{\"title\":\"IBM Sees Holographic Calls Air Breat...</td>\n",
              "      <td>{\"title\":\"The Fully Electronic Futuristic Star...</td>\n",
              "      <td>{\"title\":\"Fruits that Fight the Flu fruits tha...</td>\n",
              "      <td>{\"title\":\"10 Foolproof Tips for Better Sleep \"...</td>\n",
              "      <td>{\"title\":\"The 50 Coolest Jerseys You Didn t Kn...</td>\n",
              "      <td>{\"url\":\"conveniencemedical genital herpes home...</td>\n",
              "      <td>{\"title\":\"fashion lane American Wild Child \",\"...</td>\n",
              "      <td>{\"url\":\"insidershealth article racing for reco...</td>\n",
              "      <td>{\"title\":\"Valet The Handbook 31 Days 31 days\",...</td>\n",
              "      <td>{\"url\":\"howsweeteats 2010 03 24 cookies and cr...</td>\n",
              "      <td>...</td>\n",
              "      <td>{\"url\":\"shopmarkethq collections brands minkpi...</td>\n",
              "      <td>{\"title\":\"How to Make No Knead Pizza Dough No ...</td>\n",
              "      <td>{\"title\":\"Vintage Funk A Chic Direction \",\"bod...</td>\n",
              "      <td>{\"url\":\"villagevoice bestof 2009 award best pl...</td>\n",
              "      <td>{\"title\":\"Gummy Snake Worth1000 Contests \",\"bo...</td>\n",
              "      <td>{\"title\":\"Kno Raises 46 Million More To Build ...</td>\n",
              "      <td>{\"title\":\"Why I Miss College \",\"body\":\"Mar 30 ...</td>\n",
              "      <td>{\"title\":\"Sweet Potatoes Eat This Not That  i'...</td>\n",
              "      <td>{\"title\":\"Naturally Ella \",\"body\":\" \",\"url\":\"n...</td>\n",
              "      <td>{\"title\":\"Esti Ginzburg Swimsuit by Letarte by...</td>\n",
              "    </tr>\n",
              "    <tr>\n",
              "      <th>alchemy_category</th>\n",
              "      <td>business</td>\n",
              "      <td>recreation</td>\n",
              "      <td>health</td>\n",
              "      <td>health</td>\n",
              "      <td>sports</td>\n",
              "      <td>?</td>\n",
              "      <td>arts_entertainment</td>\n",
              "      <td>?</td>\n",
              "      <td>?</td>\n",
              "      <td>?</td>\n",
              "      <td>...</td>\n",
              "      <td>?</td>\n",
              "      <td>culture_politics</td>\n",
              "      <td>arts_entertainment</td>\n",
              "      <td>recreation</td>\n",
              "      <td>?</td>\n",
              "      <td>computer_internet</td>\n",
              "      <td>culture_politics</td>\n",
              "      <td>recreation</td>\n",
              "      <td>arts_entertainment</td>\n",
              "      <td>?</td>\n",
              "    </tr>\n",
              "    <tr>\n",
              "      <th>alchemy_category_score</th>\n",
              "      <td>0.789131</td>\n",
              "      <td>0.574147</td>\n",
              "      <td>0.996526</td>\n",
              "      <td>0.801248</td>\n",
              "      <td>0.719157</td>\n",
              "      <td>?</td>\n",
              "      <td>0.22111</td>\n",
              "      <td>?</td>\n",
              "      <td>?</td>\n",
              "      <td>?</td>\n",
              "      <td>...</td>\n",
              "      <td>?</td>\n",
              "      <td>0.832741</td>\n",
              "      <td>0.31693</td>\n",
              "      <td>0.679419</td>\n",
              "      <td>?</td>\n",
              "      <td>0.651067</td>\n",
              "      <td>0.14192</td>\n",
              "      <td>0.196273</td>\n",
              "      <td>0.617876</td>\n",
              "      <td>?</td>\n",
              "    </tr>\n",
              "    <tr>\n",
              "      <th>avglinksize</th>\n",
              "      <td>2.055556</td>\n",
              "      <td>3.677966</td>\n",
              "      <td>2.382883</td>\n",
              "      <td>1.543103</td>\n",
              "      <td>2.676471</td>\n",
              "      <td>119.000000</td>\n",
              "      <td>0.773810</td>\n",
              "      <td>1.883333</td>\n",
              "      <td>0.471503</td>\n",
              "      <td>2.410112</td>\n",
              "      <td>...</td>\n",
              "      <td>1.939394</td>\n",
              "      <td>3.156863</td>\n",
              "      <td>1.753731</td>\n",
              "      <td>1.995098</td>\n",
              "      <td>1.000000</td>\n",
              "      <td>3.010526</td>\n",
              "      <td>2.208054</td>\n",
              "      <td>2.000000</td>\n",
              "      <td>1.026316</td>\n",
              "      <td>1.158209</td>\n",
              "    </tr>\n",
              "    <tr>\n",
              "      <th>commonlinkratio_1</th>\n",
              "      <td>0.676471</td>\n",
              "      <td>0.508021</td>\n",
              "      <td>0.562016</td>\n",
              "      <td>0.400000</td>\n",
              "      <td>0.500000</td>\n",
              "      <td>0.745455</td>\n",
              "      <td>0.215054</td>\n",
              "      <td>0.719697</td>\n",
              "      <td>0.190722</td>\n",
              "      <td>0.469325</td>\n",
              "      <td>...</td>\n",
              "      <td>0.459732</td>\n",
              "      <td>0.669565</td>\n",
              "      <td>0.510791</td>\n",
              "      <td>0.539535</td>\n",
              "      <td>0.358974</td>\n",
              "      <td>0.474747</td>\n",
              "      <td>0.483333</td>\n",
              "      <td>0.315789</td>\n",
              "      <td>0.210526</td>\n",
              "      <td>0.505917</td>\n",
              "    </tr>\n",
              "    <tr>\n",
              "      <th>commonlinkratio_2</th>\n",
              "      <td>0.205882</td>\n",
              "      <td>0.288770</td>\n",
              "      <td>0.321705</td>\n",
              "      <td>0.100000</td>\n",
              "      <td>0.222222</td>\n",
              "      <td>0.581818</td>\n",
              "      <td>0.053763</td>\n",
              "      <td>0.265152</td>\n",
              "      <td>0.036082</td>\n",
              "      <td>0.101227</td>\n",
              "      <td>...</td>\n",
              "      <td>0.255034</td>\n",
              "      <td>0.313043</td>\n",
              "      <td>0.251799</td>\n",
              "      <td>0.213953</td>\n",
              "      <td>0.068376</td>\n",
              "      <td>0.222222</td>\n",
              "      <td>0.246667</td>\n",
              "      <td>0.171053</td>\n",
              "      <td>0.052632</td>\n",
              "      <td>0.428994</td>\n",
              "    </tr>\n",
              "    <tr>\n",
              "      <th>commonlinkratio_3</th>\n",
              "      <td>0.047059</td>\n",
              "      <td>0.213904</td>\n",
              "      <td>0.120155</td>\n",
              "      <td>0.016667</td>\n",
              "      <td>0.123457</td>\n",
              "      <td>0.290909</td>\n",
              "      <td>0.043011</td>\n",
              "      <td>0.113636</td>\n",
              "      <td>0.000000</td>\n",
              "      <td>0.018405</td>\n",
              "      <td>...</td>\n",
              "      <td>0.140940</td>\n",
              "      <td>0.113043</td>\n",
              "      <td>0.043165</td>\n",
              "      <td>0.018605</td>\n",
              "      <td>0.025641</td>\n",
              "      <td>0.191919</td>\n",
              "      <td>0.036667</td>\n",
              "      <td>0.105263</td>\n",
              "      <td>0.000000</td>\n",
              "      <td>0.023669</td>\n",
              "    </tr>\n",
              "    <tr>\n",
              "      <th>commonlinkratio_4</th>\n",
              "      <td>0.023529</td>\n",
              "      <td>0.144385</td>\n",
              "      <td>0.042636</td>\n",
              "      <td>0.000000</td>\n",
              "      <td>0.043210</td>\n",
              "      <td>0.018182</td>\n",
              "      <td>0.043011</td>\n",
              "      <td>0.015152</td>\n",
              "      <td>0.000000</td>\n",
              "      <td>0.003067</td>\n",
              "      <td>...</td>\n",
              "      <td>0.080537</td>\n",
              "      <td>0.034783</td>\n",
              "      <td>0.000000</td>\n",
              "      <td>0.018605</td>\n",
              "      <td>0.017094</td>\n",
              "      <td>0.191919</td>\n",
              "      <td>0.026667</td>\n",
              "      <td>0.052632</td>\n",
              "      <td>0.000000</td>\n",
              "      <td>0.000000</td>\n",
              "    </tr>\n",
              "    <tr>\n",
              "      <th>compression_ratio</th>\n",
              "      <td>0.443783</td>\n",
              "      <td>0.468649</td>\n",
              "      <td>0.525448</td>\n",
              "      <td>0.480725</td>\n",
              "      <td>0.446143</td>\n",
              "      <td>0.434639</td>\n",
              "      <td>0.579596</td>\n",
              "      <td>0.499348</td>\n",
              "      <td>0.383199</td>\n",
              "      <td>0.465859</td>\n",
              "      <td>...</td>\n",
              "      <td>0.799065</td>\n",
              "      <td>0.259315</td>\n",
              "      <td>0.639198</td>\n",
              "      <td>0.548148</td>\n",
              "      <td>1.109890</td>\n",
              "      <td>0.474273</td>\n",
              "      <td>0.558184</td>\n",
              "      <td>0.692529</td>\n",
              "      <td>21.000000</td>\n",
              "      <td>0.434146</td>\n",
              "    </tr>\n",
              "    <tr>\n",
              "      <th>embed_ratio</th>\n",
              "      <td>0.000000</td>\n",
              "      <td>0.000000</td>\n",
              "      <td>0.000000</td>\n",
              "      <td>0.000000</td>\n",
              "      <td>0.000000</td>\n",
              "      <td>0.000000</td>\n",
              "      <td>0.000000</td>\n",
              "      <td>0.000000</td>\n",
              "      <td>0.000000</td>\n",
              "      <td>0.000000</td>\n",
              "      <td>...</td>\n",
              "      <td>0.000000</td>\n",
              "      <td>0.000000</td>\n",
              "      <td>0.000000</td>\n",
              "      <td>0.000000</td>\n",
              "      <td>0.000000</td>\n",
              "      <td>0.000000</td>\n",
              "      <td>0.000000</td>\n",
              "      <td>0.000000</td>\n",
              "      <td>-1.000000</td>\n",
              "      <td>0.000000</td>\n",
              "    </tr>\n",
              "    <tr>\n",
              "      <th>framebased</th>\n",
              "      <td>0</td>\n",
              "      <td>0</td>\n",
              "      <td>0</td>\n",
              "      <td>0</td>\n",
              "      <td>0</td>\n",
              "      <td>0</td>\n",
              "      <td>0</td>\n",
              "      <td>0</td>\n",
              "      <td>0</td>\n",
              "      <td>0</td>\n",
              "      <td>...</td>\n",
              "      <td>0</td>\n",
              "      <td>0</td>\n",
              "      <td>0</td>\n",
              "      <td>0</td>\n",
              "      <td>0</td>\n",
              "      <td>0</td>\n",
              "      <td>0</td>\n",
              "      <td>0</td>\n",
              "      <td>0</td>\n",
              "      <td>0</td>\n",
              "    </tr>\n",
              "    <tr>\n",
              "      <th>frameTagRatio</th>\n",
              "      <td>0.090774</td>\n",
              "      <td>0.098707</td>\n",
              "      <td>0.072448</td>\n",
              "      <td>0.095861</td>\n",
              "      <td>0.024908</td>\n",
              "      <td>0.019841</td>\n",
              "      <td>0.039568</td>\n",
              "      <td>0.026616</td>\n",
              "      <td>0.021705</td>\n",
              "      <td>0.012000</td>\n",
              "      <td>...</td>\n",
              "      <td>0.031915</td>\n",
              "      <td>0.044103</td>\n",
              "      <td>0.048733</td>\n",
              "      <td>0.040293</td>\n",
              "      <td>0.029685</td>\n",
              "      <td>0.177043</td>\n",
              "      <td>0.057377</td>\n",
              "      <td>0.124122</td>\n",
              "      <td>0.097778</td>\n",
              "      <td>0.028451</td>\n",
              "    </tr>\n",
              "    <tr>\n",
              "      <th>hasDomainLink</th>\n",
              "      <td>0</td>\n",
              "      <td>0</td>\n",
              "      <td>0</td>\n",
              "      <td>0</td>\n",
              "      <td>0</td>\n",
              "      <td>0</td>\n",
              "      <td>0</td>\n",
              "      <td>0</td>\n",
              "      <td>0</td>\n",
              "      <td>0</td>\n",
              "      <td>...</td>\n",
              "      <td>0</td>\n",
              "      <td>0</td>\n",
              "      <td>0</td>\n",
              "      <td>0</td>\n",
              "      <td>0</td>\n",
              "      <td>0</td>\n",
              "      <td>0</td>\n",
              "      <td>0</td>\n",
              "      <td>0</td>\n",
              "      <td>0</td>\n",
              "    </tr>\n",
              "    <tr>\n",
              "      <th>html_ratio</th>\n",
              "      <td>0.245831</td>\n",
              "      <td>0.203490</td>\n",
              "      <td>0.226402</td>\n",
              "      <td>0.265656</td>\n",
              "      <td>0.228887</td>\n",
              "      <td>0.298300</td>\n",
              "      <td>0.218978</td>\n",
              "      <td>0.173746</td>\n",
              "      <td>0.114962</td>\n",
              "      <td>0.205117</td>\n",
              "      <td>...</td>\n",
              "      <td>0.112638</td>\n",
              "      <td>0.170909</td>\n",
              "      <td>0.273612</td>\n",
              "      <td>0.210872</td>\n",
              "      <td>0.184661</td>\n",
              "      <td>0.256669</td>\n",
              "      <td>0.218014</td>\n",
              "      <td>0.248388</td>\n",
              "      <td>0.256070</td>\n",
              "      <td>0.137454</td>\n",
              "    </tr>\n",
              "    <tr>\n",
              "      <th>image_ratio</th>\n",
              "      <td>0.003883</td>\n",
              "      <td>0.088652</td>\n",
              "      <td>0.120536</td>\n",
              "      <td>0.035343</td>\n",
              "      <td>0.050473</td>\n",
              "      <td>0.038636</td>\n",
              "      <td>0.311377</td>\n",
              "      <td>0.025830</td>\n",
              "      <td>1.136646</td>\n",
              "      <td>0.206262</td>\n",
              "      <td>...</td>\n",
              "      <td>3.083333</td>\n",
              "      <td>0.003122</td>\n",
              "      <td>0.137500</td>\n",
              "      <td>0.274194</td>\n",
              "      <td>1.666667</td>\n",
              "      <td>0.048780</td>\n",
              "      <td>0.225962</td>\n",
              "      <td>0.464286</td>\n",
              "      <td>-1.000000</td>\n",
              "      <td>1.069231</td>\n",
              "    </tr>\n",
              "    <tr>\n",
              "      <th>is_news</th>\n",
              "      <td>1</td>\n",
              "      <td>1</td>\n",
              "      <td>1</td>\n",
              "      <td>1</td>\n",
              "      <td>1</td>\n",
              "      <td>?</td>\n",
              "      <td>1</td>\n",
              "      <td>?</td>\n",
              "      <td>1</td>\n",
              "      <td>?</td>\n",
              "      <td>...</td>\n",
              "      <td>?</td>\n",
              "      <td>?</td>\n",
              "      <td>1</td>\n",
              "      <td>1</td>\n",
              "      <td>?</td>\n",
              "      <td>1</td>\n",
              "      <td>1</td>\n",
              "      <td>?</td>\n",
              "      <td>1</td>\n",
              "      <td>?</td>\n",
              "    </tr>\n",
              "    <tr>\n",
              "      <th>lengthyLinkDomain</th>\n",
              "      <td>1</td>\n",
              "      <td>1</td>\n",
              "      <td>1</td>\n",
              "      <td>0</td>\n",
              "      <td>1</td>\n",
              "      <td>0</td>\n",
              "      <td>0</td>\n",
              "      <td>0</td>\n",
              "      <td>0</td>\n",
              "      <td>1</td>\n",
              "      <td>...</td>\n",
              "      <td>0</td>\n",
              "      <td>1</td>\n",
              "      <td>0</td>\n",
              "      <td>1</td>\n",
              "      <td>0</td>\n",
              "      <td>1</td>\n",
              "      <td>1</td>\n",
              "      <td>1</td>\n",
              "      <td>0</td>\n",
              "      <td>0</td>\n",
              "    </tr>\n",
              "    <tr>\n",
              "      <th>linkwordscore</th>\n",
              "      <td>24</td>\n",
              "      <td>40</td>\n",
              "      <td>55</td>\n",
              "      <td>24</td>\n",
              "      <td>14</td>\n",
              "      <td>12</td>\n",
              "      <td>21</td>\n",
              "      <td>5</td>\n",
              "      <td>17</td>\n",
              "      <td>14</td>\n",
              "      <td>...</td>\n",
              "      <td>72</td>\n",
              "      <td>15</td>\n",
              "      <td>53</td>\n",
              "      <td>54</td>\n",
              "      <td>36</td>\n",
              "      <td>38</td>\n",
              "      <td>34</td>\n",
              "      <td>43</td>\n",
              "      <td>37</td>\n",
              "      <td>78</td>\n",
              "    </tr>\n",
              "    <tr>\n",
              "      <th>news_front_page</th>\n",
              "      <td>0</td>\n",
              "      <td>0</td>\n",
              "      <td>0</td>\n",
              "      <td>0</td>\n",
              "      <td>0</td>\n",
              "      <td>?</td>\n",
              "      <td>0</td>\n",
              "      <td>?</td>\n",
              "      <td>0</td>\n",
              "      <td>?</td>\n",
              "      <td>...</td>\n",
              "      <td>?</td>\n",
              "      <td>0</td>\n",
              "      <td>0</td>\n",
              "      <td>0</td>\n",
              "      <td>?</td>\n",
              "      <td>0</td>\n",
              "      <td>0</td>\n",
              "      <td>0</td>\n",
              "      <td>1</td>\n",
              "      <td>?</td>\n",
              "    </tr>\n",
              "    <tr>\n",
              "      <th>non_markup_alphanum_characters</th>\n",
              "      <td>5424</td>\n",
              "      <td>4973</td>\n",
              "      <td>2240</td>\n",
              "      <td>2737</td>\n",
              "      <td>12032</td>\n",
              "      <td>4368</td>\n",
              "      <td>1287</td>\n",
              "      <td>27656</td>\n",
              "      <td>2471</td>\n",
              "      <td>11459</td>\n",
              "      <td>...</td>\n",
              "      <td>1447</td>\n",
              "      <td>12714</td>\n",
              "      <td>964</td>\n",
              "      <td>1819</td>\n",
              "      <td>886</td>\n",
              "      <td>2219</td>\n",
              "      <td>5672</td>\n",
              "      <td>848</td>\n",
              "      <td>386</td>\n",
              "      <td>515</td>\n",
              "    </tr>\n",
              "    <tr>\n",
              "      <th>numberOfLinks</th>\n",
              "      <td>170</td>\n",
              "      <td>187</td>\n",
              "      <td>258</td>\n",
              "      <td>120</td>\n",
              "      <td>162</td>\n",
              "      <td>55</td>\n",
              "      <td>93</td>\n",
              "      <td>132</td>\n",
              "      <td>194</td>\n",
              "      <td>326</td>\n",
              "      <td>...</td>\n",
              "      <td>298</td>\n",
              "      <td>115</td>\n",
              "      <td>139</td>\n",
              "      <td>215</td>\n",
              "      <td>117</td>\n",
              "      <td>99</td>\n",
              "      <td>300</td>\n",
              "      <td>76</td>\n",
              "      <td>38</td>\n",
              "      <td>338</td>\n",
              "    </tr>\n",
              "    <tr>\n",
              "      <th>numwords_in_url</th>\n",
              "      <td>8</td>\n",
              "      <td>9</td>\n",
              "      <td>11</td>\n",
              "      <td>5</td>\n",
              "      <td>10</td>\n",
              "      <td>3</td>\n",
              "      <td>3</td>\n",
              "      <td>4</td>\n",
              "      <td>7</td>\n",
              "      <td>4</td>\n",
              "      <td>...</td>\n",
              "      <td>6</td>\n",
              "      <td>9</td>\n",
              "      <td>2</td>\n",
              "      <td>5</td>\n",
              "      <td>4</td>\n",
              "      <td>11</td>\n",
              "      <td>4</td>\n",
              "      <td>5</td>\n",
              "      <td>0</td>\n",
              "      <td>4</td>\n",
              "    </tr>\n",
              "    <tr>\n",
              "      <th>parametrizedLinkRatio</th>\n",
              "      <td>0.152941</td>\n",
              "      <td>0.181818</td>\n",
              "      <td>0.166667</td>\n",
              "      <td>0.041667</td>\n",
              "      <td>0.098765</td>\n",
              "      <td>0.054545</td>\n",
              "      <td>0.548387</td>\n",
              "      <td>0.068182</td>\n",
              "      <td>0.644330</td>\n",
              "      <td>0.236196</td>\n",
              "      <td>...</td>\n",
              "      <td>0.104027</td>\n",
              "      <td>0.113043</td>\n",
              "      <td>0.158273</td>\n",
              "      <td>0.455814</td>\n",
              "      <td>0.205128</td>\n",
              "      <td>0.040404</td>\n",
              "      <td>0.020000</td>\n",
              "      <td>0.434211</td>\n",
              "      <td>0.026316</td>\n",
              "      <td>0.005917</td>\n",
              "    </tr>\n",
              "    <tr>\n",
              "      <th>spelling_errors_ratio</th>\n",
              "      <td>0.079130</td>\n",
              "      <td>0.125448</td>\n",
              "      <td>0.057613</td>\n",
              "      <td>0.100858</td>\n",
              "      <td>0.082569</td>\n",
              "      <td>0.087356</td>\n",
              "      <td>0.064327</td>\n",
              "      <td>0.148551</td>\n",
              "      <td>0.125000</td>\n",
              "      <td>0.094412</td>\n",
              "      <td>...</td>\n",
              "      <td>0.159091</td>\n",
              "      <td>0.022329</td>\n",
              "      <td>0.036585</td>\n",
              "      <td>0.070632</td>\n",
              "      <td>0.058824</td>\n",
              "      <td>0.071429</td>\n",
              "      <td>0.109453</td>\n",
              "      <td>0.117647</td>\n",
              "      <td>0.333333</td>\n",
              "      <td>0.134146</td>\n",
              "    </tr>\n",
              "    <tr>\n",
              "      <th>label</th>\n",
              "      <td>0</td>\n",
              "      <td>1</td>\n",
              "      <td>1</td>\n",
              "      <td>1</td>\n",
              "      <td>0</td>\n",
              "      <td>0</td>\n",
              "      <td>1</td>\n",
              "      <td>0</td>\n",
              "      <td>1</td>\n",
              "      <td>1</td>\n",
              "      <td>...</td>\n",
              "      <td>0</td>\n",
              "      <td>1</td>\n",
              "      <td>1</td>\n",
              "      <td>0</td>\n",
              "      <td>0</td>\n",
              "      <td>0</td>\n",
              "      <td>0</td>\n",
              "      <td>1</td>\n",
              "      <td>1</td>\n",
              "      <td>0</td>\n",
              "    </tr>\n",
              "  </tbody>\n",
              "</table>\n",
              "<p>27 rows × 7395 columns</p>\n",
              "</div>"
            ],
            "text/plain": [
              "                                                                             0     \\\n",
              "url                             http://www.bloomberg.com/news/2010-12-23/ibm-p...   \n",
              "urlid                                                                        4042   \n",
              "boilerplate                     {\"title\":\"IBM Sees Holographic Calls Air Breat...   \n",
              "alchemy_category                                                         business   \n",
              "alchemy_category_score                                                   0.789131   \n",
              "avglinksize                                                              2.055556   \n",
              "commonlinkratio_1                                                        0.676471   \n",
              "commonlinkratio_2                                                        0.205882   \n",
              "commonlinkratio_3                                                        0.047059   \n",
              "commonlinkratio_4                                                        0.023529   \n",
              "compression_ratio                                                        0.443783   \n",
              "embed_ratio                                                              0.000000   \n",
              "framebased                                                                      0   \n",
              "frameTagRatio                                                            0.090774   \n",
              "hasDomainLink                                                                   0   \n",
              "html_ratio                                                               0.245831   \n",
              "image_ratio                                                              0.003883   \n",
              "is_news                                                                         1   \n",
              "lengthyLinkDomain                                                               1   \n",
              "linkwordscore                                                                  24   \n",
              "news_front_page                                                                 0   \n",
              "non_markup_alphanum_characters                                               5424   \n",
              "numberOfLinks                                                                 170   \n",
              "numwords_in_url                                                                 8   \n",
              "parametrizedLinkRatio                                                    0.152941   \n",
              "spelling_errors_ratio                                                    0.079130   \n",
              "label                                                                           0   \n",
              "\n",
              "                                                                             1     \\\n",
              "url                             http://www.popsci.com/technology/article/2012-...   \n",
              "urlid                                                                        8471   \n",
              "boilerplate                     {\"title\":\"The Fully Electronic Futuristic Star...   \n",
              "alchemy_category                                                       recreation   \n",
              "alchemy_category_score                                                   0.574147   \n",
              "avglinksize                                                              3.677966   \n",
              "commonlinkratio_1                                                        0.508021   \n",
              "commonlinkratio_2                                                        0.288770   \n",
              "commonlinkratio_3                                                        0.213904   \n",
              "commonlinkratio_4                                                        0.144385   \n",
              "compression_ratio                                                        0.468649   \n",
              "embed_ratio                                                              0.000000   \n",
              "framebased                                                                      0   \n",
              "frameTagRatio                                                            0.098707   \n",
              "hasDomainLink                                                                   0   \n",
              "html_ratio                                                               0.203490   \n",
              "image_ratio                                                              0.088652   \n",
              "is_news                                                                         1   \n",
              "lengthyLinkDomain                                                               1   \n",
              "linkwordscore                                                                  40   \n",
              "news_front_page                                                                 0   \n",
              "non_markup_alphanum_characters                                               4973   \n",
              "numberOfLinks                                                                 187   \n",
              "numwords_in_url                                                                 9   \n",
              "parametrizedLinkRatio                                                    0.181818   \n",
              "spelling_errors_ratio                                                    0.125448   \n",
              "label                                                                           1   \n",
              "\n",
              "                                                                             2     \\\n",
              "url                             http://www.menshealth.com/health/flu-fighting-...   \n",
              "urlid                                                                        1164   \n",
              "boilerplate                     {\"title\":\"Fruits that Fight the Flu fruits tha...   \n",
              "alchemy_category                                                           health   \n",
              "alchemy_category_score                                                   0.996526   \n",
              "avglinksize                                                              2.382883   \n",
              "commonlinkratio_1                                                        0.562016   \n",
              "commonlinkratio_2                                                        0.321705   \n",
              "commonlinkratio_3                                                        0.120155   \n",
              "commonlinkratio_4                                                        0.042636   \n",
              "compression_ratio                                                        0.525448   \n",
              "embed_ratio                                                              0.000000   \n",
              "framebased                                                                      0   \n",
              "frameTagRatio                                                            0.072448   \n",
              "hasDomainLink                                                                   0   \n",
              "html_ratio                                                               0.226402   \n",
              "image_ratio                                                              0.120536   \n",
              "is_news                                                                         1   \n",
              "lengthyLinkDomain                                                               1   \n",
              "linkwordscore                                                                  55   \n",
              "news_front_page                                                                 0   \n",
              "non_markup_alphanum_characters                                               2240   \n",
              "numberOfLinks                                                                 258   \n",
              "numwords_in_url                                                                11   \n",
              "parametrizedLinkRatio                                                    0.166667   \n",
              "spelling_errors_ratio                                                    0.057613   \n",
              "label                                                                           1   \n",
              "\n",
              "                                                                             3     \\\n",
              "url                             http://www.dumblittleman.com/2007/12/10-foolpr...   \n",
              "urlid                                                                        6684   \n",
              "boilerplate                     {\"title\":\"10 Foolproof Tips for Better Sleep \"...   \n",
              "alchemy_category                                                           health   \n",
              "alchemy_category_score                                                   0.801248   \n",
              "avglinksize                                                              1.543103   \n",
              "commonlinkratio_1                                                        0.400000   \n",
              "commonlinkratio_2                                                        0.100000   \n",
              "commonlinkratio_3                                                        0.016667   \n",
              "commonlinkratio_4                                                        0.000000   \n",
              "compression_ratio                                                        0.480725   \n",
              "embed_ratio                                                              0.000000   \n",
              "framebased                                                                      0   \n",
              "frameTagRatio                                                            0.095861   \n",
              "hasDomainLink                                                                   0   \n",
              "html_ratio                                                               0.265656   \n",
              "image_ratio                                                              0.035343   \n",
              "is_news                                                                         1   \n",
              "lengthyLinkDomain                                                               0   \n",
              "linkwordscore                                                                  24   \n",
              "news_front_page                                                                 0   \n",
              "non_markup_alphanum_characters                                               2737   \n",
              "numberOfLinks                                                                 120   \n",
              "numwords_in_url                                                                 5   \n",
              "parametrizedLinkRatio                                                    0.041667   \n",
              "spelling_errors_ratio                                                    0.100858   \n",
              "label                                                                           1   \n",
              "\n",
              "                                                                             4     \\\n",
              "url                             http://bleacherreport.com/articles/1205138-the...   \n",
              "urlid                                                                        9006   \n",
              "boilerplate                     {\"title\":\"The 50 Coolest Jerseys You Didn t Kn...   \n",
              "alchemy_category                                                           sports   \n",
              "alchemy_category_score                                                   0.719157   \n",
              "avglinksize                                                              2.676471   \n",
              "commonlinkratio_1                                                        0.500000   \n",
              "commonlinkratio_2                                                        0.222222   \n",
              "commonlinkratio_3                                                        0.123457   \n",
              "commonlinkratio_4                                                        0.043210   \n",
              "compression_ratio                                                        0.446143   \n",
              "embed_ratio                                                              0.000000   \n",
              "framebased                                                                      0   \n",
              "frameTagRatio                                                            0.024908   \n",
              "hasDomainLink                                                                   0   \n",
              "html_ratio                                                               0.228887   \n",
              "image_ratio                                                              0.050473   \n",
              "is_news                                                                         1   \n",
              "lengthyLinkDomain                                                               1   \n",
              "linkwordscore                                                                  14   \n",
              "news_front_page                                                                 0   \n",
              "non_markup_alphanum_characters                                              12032   \n",
              "numberOfLinks                                                                 162   \n",
              "numwords_in_url                                                                10   \n",
              "parametrizedLinkRatio                                                    0.098765   \n",
              "spelling_errors_ratio                                                    0.082569   \n",
              "label                                                                           0   \n",
              "\n",
              "                                                                             5     \\\n",
              "url                             http://www.conveniencemedical.com/genital-herp...   \n",
              "urlid                                                                        7018   \n",
              "boilerplate                     {\"url\":\"conveniencemedical genital herpes home...   \n",
              "alchemy_category                                                                ?   \n",
              "alchemy_category_score                                                          ?   \n",
              "avglinksize                                                            119.000000   \n",
              "commonlinkratio_1                                                        0.745455   \n",
              "commonlinkratio_2                                                        0.581818   \n",
              "commonlinkratio_3                                                        0.290909   \n",
              "commonlinkratio_4                                                        0.018182   \n",
              "compression_ratio                                                        0.434639   \n",
              "embed_ratio                                                              0.000000   \n",
              "framebased                                                                      0   \n",
              "frameTagRatio                                                            0.019841   \n",
              "hasDomainLink                                                                   0   \n",
              "html_ratio                                                               0.298300   \n",
              "image_ratio                                                              0.038636   \n",
              "is_news                                                                         ?   \n",
              "lengthyLinkDomain                                                               0   \n",
              "linkwordscore                                                                  12   \n",
              "news_front_page                                                                 ?   \n",
              "non_markup_alphanum_characters                                               4368   \n",
              "numberOfLinks                                                                  55   \n",
              "numwords_in_url                                                                 3   \n",
              "parametrizedLinkRatio                                                    0.054545   \n",
              "spelling_errors_ratio                                                    0.087356   \n",
              "label                                                                           0   \n",
              "\n",
              "                                                                             6     \\\n",
              "url                             http://gofashionlane.blogspot.tw/2012/06/ameri...   \n",
              "urlid                                                                        8685   \n",
              "boilerplate                     {\"title\":\"fashion lane American Wild Child \",\"...   \n",
              "alchemy_category                                               arts_entertainment   \n",
              "alchemy_category_score                                                    0.22111   \n",
              "avglinksize                                                              0.773810   \n",
              "commonlinkratio_1                                                        0.215054   \n",
              "commonlinkratio_2                                                        0.053763   \n",
              "commonlinkratio_3                                                        0.043011   \n",
              "commonlinkratio_4                                                        0.043011   \n",
              "compression_ratio                                                        0.579596   \n",
              "embed_ratio                                                              0.000000   \n",
              "framebased                                                                      0   \n",
              "frameTagRatio                                                            0.039568   \n",
              "hasDomainLink                                                                   0   \n",
              "html_ratio                                                               0.218978   \n",
              "image_ratio                                                              0.311377   \n",
              "is_news                                                                         1   \n",
              "lengthyLinkDomain                                                               0   \n",
              "linkwordscore                                                                  21   \n",
              "news_front_page                                                                 0   \n",
              "non_markup_alphanum_characters                                               1287   \n",
              "numberOfLinks                                                                  93   \n",
              "numwords_in_url                                                                 3   \n",
              "parametrizedLinkRatio                                                    0.548387   \n",
              "spelling_errors_ratio                                                    0.064327   \n",
              "label                                                                           1   \n",
              "\n",
              "                                                                             7     \\\n",
              "url                             http://www.insidershealth.com/article/racing_f...   \n",
              "urlid                                                                        3402   \n",
              "boilerplate                     {\"url\":\"insidershealth article racing for reco...   \n",
              "alchemy_category                                                                ?   \n",
              "alchemy_category_score                                                          ?   \n",
              "avglinksize                                                              1.883333   \n",
              "commonlinkratio_1                                                        0.719697   \n",
              "commonlinkratio_2                                                        0.265152   \n",
              "commonlinkratio_3                                                        0.113636   \n",
              "commonlinkratio_4                                                        0.015152   \n",
              "compression_ratio                                                        0.499348   \n",
              "embed_ratio                                                              0.000000   \n",
              "framebased                                                                      0   \n",
              "frameTagRatio                                                            0.026616   \n",
              "hasDomainLink                                                                   0   \n",
              "html_ratio                                                               0.173746   \n",
              "image_ratio                                                              0.025830   \n",
              "is_news                                                                         ?   \n",
              "lengthyLinkDomain                                                               0   \n",
              "linkwordscore                                                                   5   \n",
              "news_front_page                                                                 ?   \n",
              "non_markup_alphanum_characters                                              27656   \n",
              "numberOfLinks                                                                 132   \n",
              "numwords_in_url                                                                 4   \n",
              "parametrizedLinkRatio                                                    0.068182   \n",
              "spelling_errors_ratio                                                    0.148551   \n",
              "label                                                                           0   \n",
              "\n",
              "                                                                             8     \\\n",
              "url                             http://www.valetmag.com/the-handbook/features/...   \n",
              "urlid                                                                         477   \n",
              "boilerplate                     {\"title\":\"Valet The Handbook 31 Days 31 days\",...   \n",
              "alchemy_category                                                                ?   \n",
              "alchemy_category_score                                                          ?   \n",
              "avglinksize                                                              0.471503   \n",
              "commonlinkratio_1                                                        0.190722   \n",
              "commonlinkratio_2                                                        0.036082   \n",
              "commonlinkratio_3                                                        0.000000   \n",
              "commonlinkratio_4                                                        0.000000   \n",
              "compression_ratio                                                        0.383199   \n",
              "embed_ratio                                                              0.000000   \n",
              "framebased                                                                      0   \n",
              "frameTagRatio                                                            0.021705   \n",
              "hasDomainLink                                                                   0   \n",
              "html_ratio                                                               0.114962   \n",
              "image_ratio                                                              1.136646   \n",
              "is_news                                                                         1   \n",
              "lengthyLinkDomain                                                               0   \n",
              "linkwordscore                                                                  17   \n",
              "news_front_page                                                                 0   \n",
              "non_markup_alphanum_characters                                               2471   \n",
              "numberOfLinks                                                                 194   \n",
              "numwords_in_url                                                                 7   \n",
              "parametrizedLinkRatio                                                    0.644330   \n",
              "spelling_errors_ratio                                                    0.125000   \n",
              "label                                                                           1   \n",
              "\n",
              "                                                                             9     \\\n",
              "url                             http://www.howsweeteats.com/2010/03/24/cookies...   \n",
              "urlid                                                                        6731   \n",
              "boilerplate                     {\"url\":\"howsweeteats 2010 03 24 cookies and cr...   \n",
              "alchemy_category                                                                ?   \n",
              "alchemy_category_score                                                          ?   \n",
              "avglinksize                                                              2.410112   \n",
              "commonlinkratio_1                                                        0.469325   \n",
              "commonlinkratio_2                                                        0.101227   \n",
              "commonlinkratio_3                                                        0.018405   \n",
              "commonlinkratio_4                                                        0.003067   \n",
              "compression_ratio                                                        0.465859   \n",
              "embed_ratio                                                              0.000000   \n",
              "framebased                                                                      0   \n",
              "frameTagRatio                                                            0.012000   \n",
              "hasDomainLink                                                                   0   \n",
              "html_ratio                                                               0.205117   \n",
              "image_ratio                                                              0.206262   \n",
              "is_news                                                                         ?   \n",
              "lengthyLinkDomain                                                               1   \n",
              "linkwordscore                                                                  14   \n",
              "news_front_page                                                                 ?   \n",
              "non_markup_alphanum_characters                                              11459   \n",
              "numberOfLinks                                                                 326   \n",
              "numwords_in_url                                                                 4   \n",
              "parametrizedLinkRatio                                                    0.236196   \n",
              "spelling_errors_ratio                                                    0.094412   \n",
              "label                                                                           1   \n",
              "\n",
              "                                ...  \\\n",
              "url                             ...   \n",
              "urlid                           ...   \n",
              "boilerplate                     ...   \n",
              "alchemy_category                ...   \n",
              "alchemy_category_score          ...   \n",
              "avglinksize                     ...   \n",
              "commonlinkratio_1               ...   \n",
              "commonlinkratio_2               ...   \n",
              "commonlinkratio_3               ...   \n",
              "commonlinkratio_4               ...   \n",
              "compression_ratio               ...   \n",
              "embed_ratio                     ...   \n",
              "framebased                      ...   \n",
              "frameTagRatio                   ...   \n",
              "hasDomainLink                   ...   \n",
              "html_ratio                      ...   \n",
              "image_ratio                     ...   \n",
              "is_news                         ...   \n",
              "lengthyLinkDomain               ...   \n",
              "linkwordscore                   ...   \n",
              "news_front_page                 ...   \n",
              "non_markup_alphanum_characters  ...   \n",
              "numberOfLinks                   ...   \n",
              "numwords_in_url                 ...   \n",
              "parametrizedLinkRatio           ...   \n",
              "spelling_errors_ratio           ...   \n",
              "label                           ...   \n",
              "\n",
              "                                                                             7385  \\\n",
              "url                             http://shopmarkethq.com/collections/brands-min...   \n",
              "urlid                                                                        5419   \n",
              "boilerplate                     {\"url\":\"shopmarkethq collections brands minkpi...   \n",
              "alchemy_category                                                                ?   \n",
              "alchemy_category_score                                                          ?   \n",
              "avglinksize                                                              1.939394   \n",
              "commonlinkratio_1                                                        0.459732   \n",
              "commonlinkratio_2                                                        0.255034   \n",
              "commonlinkratio_3                                                        0.140940   \n",
              "commonlinkratio_4                                                        0.080537   \n",
              "compression_ratio                                                        0.799065   \n",
              "embed_ratio                                                              0.000000   \n",
              "framebased                                                                      0   \n",
              "frameTagRatio                                                            0.031915   \n",
              "hasDomainLink                                                                   0   \n",
              "html_ratio                                                               0.112638   \n",
              "image_ratio                                                              3.083333   \n",
              "is_news                                                                         ?   \n",
              "lengthyLinkDomain                                                               0   \n",
              "linkwordscore                                                                  72   \n",
              "news_front_page                                                                 ?   \n",
              "non_markup_alphanum_characters                                               1447   \n",
              "numberOfLinks                                                                 298   \n",
              "numwords_in_url                                                                 6   \n",
              "parametrizedLinkRatio                                                    0.104027   \n",
              "spelling_errors_ratio                                                    0.159091   \n",
              "label                                                                           0   \n",
              "\n",
              "                                                                             7386  \\\n",
              "url                             http://slice.seriouseats.com/archives/2010/06/...   \n",
              "urlid                                                                         546   \n",
              "boilerplate                     {\"title\":\"How to Make No Knead Pizza Dough No ...   \n",
              "alchemy_category                                                 culture_politics   \n",
              "alchemy_category_score                                                   0.832741   \n",
              "avglinksize                                                              3.156863   \n",
              "commonlinkratio_1                                                        0.669565   \n",
              "commonlinkratio_2                                                        0.313043   \n",
              "commonlinkratio_3                                                        0.113043   \n",
              "commonlinkratio_4                                                        0.034783   \n",
              "compression_ratio                                                        0.259315   \n",
              "embed_ratio                                                              0.000000   \n",
              "framebased                                                                      0   \n",
              "frameTagRatio                                                            0.044103   \n",
              "hasDomainLink                                                                   0   \n",
              "html_ratio                                                               0.170909   \n",
              "image_ratio                                                              0.003122   \n",
              "is_news                                                                         ?   \n",
              "lengthyLinkDomain                                                               1   \n",
              "linkwordscore                                                                  15   \n",
              "news_front_page                                                                 0   \n",
              "non_markup_alphanum_characters                                              12714   \n",
              "numberOfLinks                                                                 115   \n",
              "numwords_in_url                                                                 9   \n",
              "parametrizedLinkRatio                                                    0.113043   \n",
              "spelling_errors_ratio                                                    0.022329   \n",
              "label                                                                           1   \n",
              "\n",
              "                                                                             7387  \\\n",
              "url                             http://achicdirection.com/2012/01/23/vintage-f...   \n",
              "urlid                                                                       10382   \n",
              "boilerplate                     {\"title\":\"Vintage Funk A Chic Direction \",\"bod...   \n",
              "alchemy_category                                               arts_entertainment   \n",
              "alchemy_category_score                                                    0.31693   \n",
              "avglinksize                                                              1.753731   \n",
              "commonlinkratio_1                                                        0.510791   \n",
              "commonlinkratio_2                                                        0.251799   \n",
              "commonlinkratio_3                                                        0.043165   \n",
              "commonlinkratio_4                                                        0.000000   \n",
              "compression_ratio                                                        0.639198   \n",
              "embed_ratio                                                              0.000000   \n",
              "framebased                                                                      0   \n",
              "frameTagRatio                                                            0.048733   \n",
              "hasDomainLink                                                                   0   \n",
              "html_ratio                                                               0.273612   \n",
              "image_ratio                                                              0.137500   \n",
              "is_news                                                                         1   \n",
              "lengthyLinkDomain                                                               0   \n",
              "linkwordscore                                                                  53   \n",
              "news_front_page                                                                 0   \n",
              "non_markup_alphanum_characters                                                964   \n",
              "numberOfLinks                                                                 139   \n",
              "numwords_in_url                                                                 2   \n",
              "parametrizedLinkRatio                                                    0.158273   \n",
              "spelling_errors_ratio                                                    0.036585   \n",
              "label                                                                           1   \n",
              "\n",
              "                                                                             7388  \\\n",
              "url                             http://www.villagevoice.com/bestof/2009/award/...   \n",
              "urlid                                                                        7634   \n",
              "boilerplate                     {\"url\":\"villagevoice bestof 2009 award best pl...   \n",
              "alchemy_category                                                       recreation   \n",
              "alchemy_category_score                                                   0.679419   \n",
              "avglinksize                                                              1.995098   \n",
              "commonlinkratio_1                                                        0.539535   \n",
              "commonlinkratio_2                                                        0.213953   \n",
              "commonlinkratio_3                                                        0.018605   \n",
              "commonlinkratio_4                                                        0.018605   \n",
              "compression_ratio                                                        0.548148   \n",
              "embed_ratio                                                              0.000000   \n",
              "framebased                                                                      0   \n",
              "frameTagRatio                                                            0.040293   \n",
              "hasDomainLink                                                                   0   \n",
              "html_ratio                                                               0.210872   \n",
              "image_ratio                                                              0.274194   \n",
              "is_news                                                                         1   \n",
              "lengthyLinkDomain                                                               1   \n",
              "linkwordscore                                                                  54   \n",
              "news_front_page                                                                 0   \n",
              "non_markup_alphanum_characters                                               1819   \n",
              "numberOfLinks                                                                 215   \n",
              "numwords_in_url                                                                 5   \n",
              "parametrizedLinkRatio                                                    0.455814   \n",
              "spelling_errors_ratio                                                    0.070632   \n",
              "label                                                                           0   \n",
              "\n",
              "                                                                             7389  \\\n",
              "url                             http://www.worth1000.com/emailthis.asp?entry=5...   \n",
              "urlid                                                                        8923   \n",
              "boilerplate                     {\"title\":\"Gummy Snake Worth1000 Contests \",\"bo...   \n",
              "alchemy_category                                                                ?   \n",
              "alchemy_category_score                                                          ?   \n",
              "avglinksize                                                              1.000000   \n",
              "commonlinkratio_1                                                        0.358974   \n",
              "commonlinkratio_2                                                        0.068376   \n",
              "commonlinkratio_3                                                        0.025641   \n",
              "commonlinkratio_4                                                        0.017094   \n",
              "compression_ratio                                                        1.109890   \n",
              "embed_ratio                                                              0.000000   \n",
              "framebased                                                                      0   \n",
              "frameTagRatio                                                            0.029685   \n",
              "hasDomainLink                                                                   0   \n",
              "html_ratio                                                               0.184661   \n",
              "image_ratio                                                              1.666667   \n",
              "is_news                                                                         ?   \n",
              "lengthyLinkDomain                                                               0   \n",
              "linkwordscore                                                                  36   \n",
              "news_front_page                                                                 ?   \n",
              "non_markup_alphanum_characters                                                886   \n",
              "numberOfLinks                                                                 117   \n",
              "numwords_in_url                                                                 4   \n",
              "parametrizedLinkRatio                                                    0.205128   \n",
              "spelling_errors_ratio                                                    0.058824   \n",
              "label                                                                           0   \n",
              "\n",
              "                                                                             7390  \\\n",
              "url                             http://techcrunch.com/2010/09/08/kno-raises-46...   \n",
              "urlid                                                                        8958   \n",
              "boilerplate                     {\"title\":\"Kno Raises 46 Million More To Build ...   \n",
              "alchemy_category                                                computer_internet   \n",
              "alchemy_category_score                                                   0.651067   \n",
              "avglinksize                                                              3.010526   \n",
              "commonlinkratio_1                                                        0.474747   \n",
              "commonlinkratio_2                                                        0.222222   \n",
              "commonlinkratio_3                                                        0.191919   \n",
              "commonlinkratio_4                                                        0.191919   \n",
              "compression_ratio                                                        0.474273   \n",
              "embed_ratio                                                              0.000000   \n",
              "framebased                                                                      0   \n",
              "frameTagRatio                                                            0.177043   \n",
              "hasDomainLink                                                                   0   \n",
              "html_ratio                                                               0.256669   \n",
              "image_ratio                                                              0.048780   \n",
              "is_news                                                                         1   \n",
              "lengthyLinkDomain                                                               1   \n",
              "linkwordscore                                                                  38   \n",
              "news_front_page                                                                 0   \n",
              "non_markup_alphanum_characters                                               2219   \n",
              "numberOfLinks                                                                  99   \n",
              "numwords_in_url                                                                11   \n",
              "parametrizedLinkRatio                                                    0.040404   \n",
              "spelling_errors_ratio                                                    0.071429   \n",
              "label                                                                           0   \n",
              "\n",
              "                                                                             7391  \\\n",
              "url                             http://www.uncoached.com/category/why-i-miss-c...   \n",
              "urlid                                                                        8895   \n",
              "boilerplate                     {\"title\":\"Why I Miss College \",\"body\":\"Mar 30 ...   \n",
              "alchemy_category                                                 culture_politics   \n",
              "alchemy_category_score                                                    0.14192   \n",
              "avglinksize                                                              2.208054   \n",
              "commonlinkratio_1                                                        0.483333   \n",
              "commonlinkratio_2                                                        0.246667   \n",
              "commonlinkratio_3                                                        0.036667   \n",
              "commonlinkratio_4                                                        0.026667   \n",
              "compression_ratio                                                        0.558184   \n",
              "embed_ratio                                                              0.000000   \n",
              "framebased                                                                      0   \n",
              "frameTagRatio                                                            0.057377   \n",
              "hasDomainLink                                                                   0   \n",
              "html_ratio                                                               0.218014   \n",
              "image_ratio                                                              0.225962   \n",
              "is_news                                                                         1   \n",
              "lengthyLinkDomain                                                               1   \n",
              "linkwordscore                                                                  34   \n",
              "news_front_page                                                                 0   \n",
              "non_markup_alphanum_characters                                               5672   \n",
              "numberOfLinks                                                                 300   \n",
              "numwords_in_url                                                                 4   \n",
              "parametrizedLinkRatio                                                    0.020000   \n",
              "spelling_errors_ratio                                                    0.109453   \n",
              "label                                                                           0   \n",
              "\n",
              "                                                                             7392  \\\n",
              "url                             http://eatthis.menshealth.com/slide/sweet-pota...   \n",
              "urlid                                                                        1191   \n",
              "boilerplate                     {\"title\":\"Sweet Potatoes Eat This Not That  i'...   \n",
              "alchemy_category                                                       recreation   \n",
              "alchemy_category_score                                                   0.196273   \n",
              "avglinksize                                                              2.000000   \n",
              "commonlinkratio_1                                                        0.315789   \n",
              "commonlinkratio_2                                                        0.171053   \n",
              "commonlinkratio_3                                                        0.105263   \n",
              "commonlinkratio_4                                                        0.052632   \n",
              "compression_ratio                                                        0.692529   \n",
              "embed_ratio                                                              0.000000   \n",
              "framebased                                                                      0   \n",
              "frameTagRatio                                                            0.124122   \n",
              "hasDomainLink                                                                   0   \n",
              "html_ratio                                                               0.248388   \n",
              "image_ratio                                                              0.464286   \n",
              "is_news                                                                         ?   \n",
              "lengthyLinkDomain                                                               1   \n",
              "linkwordscore                                                                  43   \n",
              "news_front_page                                                                 0   \n",
              "non_markup_alphanum_characters                                                848   \n",
              "numberOfLinks                                                                  76   \n",
              "numwords_in_url                                                                 5   \n",
              "parametrizedLinkRatio                                                    0.434211   \n",
              "spelling_errors_ratio                                                    0.117647   \n",
              "label                                                                           1   \n",
              "\n",
              "                                                                             7393  \\\n",
              "url                                                     http://naturallyella.com/   \n",
              "urlid                                                                        5612   \n",
              "boilerplate                     {\"title\":\"Naturally Ella \",\"body\":\" \",\"url\":\"n...   \n",
              "alchemy_category                                               arts_entertainment   \n",
              "alchemy_category_score                                                   0.617876   \n",
              "avglinksize                                                              1.026316   \n",
              "commonlinkratio_1                                                        0.210526   \n",
              "commonlinkratio_2                                                        0.052632   \n",
              "commonlinkratio_3                                                        0.000000   \n",
              "commonlinkratio_4                                                        0.000000   \n",
              "compression_ratio                                                       21.000000   \n",
              "embed_ratio                                                             -1.000000   \n",
              "framebased                                                                      0   \n",
              "frameTagRatio                                                            0.097778   \n",
              "hasDomainLink                                                                   0   \n",
              "html_ratio                                                               0.256070   \n",
              "image_ratio                                                             -1.000000   \n",
              "is_news                                                                         1   \n",
              "lengthyLinkDomain                                                               0   \n",
              "linkwordscore                                                                  37   \n",
              "news_front_page                                                                 1   \n",
              "non_markup_alphanum_characters                                                386   \n",
              "numberOfLinks                                                                  38   \n",
              "numwords_in_url                                                                 0   \n",
              "parametrizedLinkRatio                                                    0.026316   \n",
              "spelling_errors_ratio                                                    0.333333   \n",
              "label                                                                           1   \n",
              "\n",
              "                                                                             7394  \n",
              "url                             http://sportsillustrated.cnn.com/2011_swimsuit...  \n",
              "urlid                                                                          90  \n",
              "boilerplate                     {\"title\":\"Esti Ginzburg Swimsuit by Letarte by...  \n",
              "alchemy_category                                                                ?  \n",
              "alchemy_category_score                                                          ?  \n",
              "avglinksize                                                              1.158209  \n",
              "commonlinkratio_1                                                        0.505917  \n",
              "commonlinkratio_2                                                        0.428994  \n",
              "commonlinkratio_3                                                        0.023669  \n",
              "commonlinkratio_4                                                        0.000000  \n",
              "compression_ratio                                                        0.434146  \n",
              "embed_ratio                                                              0.000000  \n",
              "framebased                                                                      0  \n",
              "frameTagRatio                                                            0.028451  \n",
              "hasDomainLink                                                                   0  \n",
              "html_ratio                                                               0.137454  \n",
              "image_ratio                                                              1.069231  \n",
              "is_news                                                                         ?  \n",
              "lengthyLinkDomain                                                               0  \n",
              "linkwordscore                                                                  78  \n",
              "news_front_page                                                                 ?  \n",
              "non_markup_alphanum_characters                                                515  \n",
              "numberOfLinks                                                                 338  \n",
              "numwords_in_url                                                                 4  \n",
              "parametrizedLinkRatio                                                    0.005917  \n",
              "spelling_errors_ratio                                                    0.134146  \n",
              "label                                                                           0  \n",
              "\n",
              "[27 rows x 7395 columns]"
            ]
          },
          "execution_count": 7,
          "metadata": {},
          "output_type": "execute_result"
        }
      ]
    },
    {
      "cell_type": "code",
      "metadata": {
        "id": "nUKmRLuNnXHq",
        "outputId": "83d12d49-1fe2-4eed-b399-33b845c347fa"
      },
      "source": [
        "df.alchemy_category.value_counts()"
      ],
      "execution_count": null,
      "outputs": [
        {
          "data": {
            "text/plain": [
              "?                     2342\n",
              "recreation            1229\n",
              "arts_entertainment     941\n",
              "business               880\n",
              "health                 506\n",
              "sports                 380\n",
              "culture_politics       343\n",
              "computer_internet      296\n",
              "science_technology     289\n",
              "gaming                  76\n",
              "religion                72\n",
              "law_crime               31\n",
              "unknown                  6\n",
              "weather                  4\n",
              "Name: alchemy_category, dtype: int64"
            ]
          },
          "execution_count": 8,
          "metadata": {},
          "output_type": "execute_result"
        }
      ]
    },
    {
      "cell_type": "code",
      "metadata": {
        "id": "Iy9hK7c-nXHr",
        "outputId": "d9c5d1fd-1b5c-4872-c221-003d4e6d22ad"
      },
      "source": [
        "df.groupby('alchemy_category').label.mean().sort_values(ascending=False).plot.bar()"
      ],
      "execution_count": null,
      "outputs": [
        {
          "data": {
            "text/plain": [
              "<AxesSubplot:xlabel='alchemy_category'>"
            ]
          },
          "execution_count": 9,
          "metadata": {},
          "output_type": "execute_result"
        },
        {
          "data": {
            "image/png": "[encoded data removed]",
            "text/plain": [
              "<Figure size 432x288 with 1 Axes>"
            ]
          },
          "metadata": {
            "needs_background": "light"
          },
          "output_type": "display_data"
        }
      ]
    },
    {
      "cell_type": "markdown",
      "metadata": {
        "id": "_kt_pb0hnXHt"
      },
      "source": [
        "We notice that 70% of  business articles are evergreen urls. People tend to re-read business articles.\n",
        "We are based on claculating the mean which not always give the reality. We have to check mean relatively to the number of articles first."
      ]
    },
    {
      "cell_type": "code",
      "metadata": {
        "id": "CU0KFTAYnXHu",
        "outputId": "e6e4c40c-4784-4232-9f4b-9c0a0f9e70a1"
      },
      "source": [
        "df.groupby('alchemy_category').label.agg(['mean','count']).sort_values('count',ascending=False)"
      ],
      "execution_count": null,
      "outputs": [
        {
          "data": {
            "text/html": [
              "<div>\n",
              "<style scoped>\n",
              "    .dataframe tbody tr th:only-of-type {\n",
              "        vertical-align: middle;\n",
              "    }\n",
              "\n",
              "    .dataframe tbody tr th {\n",
              "        vertical-align: top;\n",
              "    }\n",
              "\n",
              "    .dataframe thead th {\n",
              "        text-align: right;\n",
              "    }\n",
              "</style>\n",
              "<table border=\"1\" class=\"dataframe\">\n",
              "  <thead>\n",
              "    <tr style=\"text-align: right;\">\n",
              "      <th></th>\n",
              "      <th>mean</th>\n",
              "      <th>count</th>\n",
              "    </tr>\n",
              "    <tr>\n",
              "      <th>alchemy_category</th>\n",
              "      <th></th>\n",
              "      <th></th>\n",
              "    </tr>\n",
              "  </thead>\n",
              "  <tbody>\n",
              "    <tr>\n",
              "      <th>?</th>\n",
              "      <td>0.502135</td>\n",
              "      <td>2342</td>\n",
              "    </tr>\n",
              "    <tr>\n",
              "      <th>recreation</th>\n",
              "      <td>0.684296</td>\n",
              "      <td>1229</td>\n",
              "    </tr>\n",
              "    <tr>\n",
              "      <th>arts_entertainment</th>\n",
              "      <td>0.371945</td>\n",
              "      <td>941</td>\n",
              "    </tr>\n",
              "    <tr>\n",
              "      <th>business</th>\n",
              "      <td>0.711364</td>\n",
              "      <td>880</td>\n",
              "    </tr>\n",
              "    <tr>\n",
              "      <th>health</th>\n",
              "      <td>0.573123</td>\n",
              "      <td>506</td>\n",
              "    </tr>\n",
              "    <tr>\n",
              "      <th>sports</th>\n",
              "      <td>0.205263</td>\n",
              "      <td>380</td>\n",
              "    </tr>\n",
              "    <tr>\n",
              "      <th>culture_politics</th>\n",
              "      <td>0.457726</td>\n",
              "      <td>343</td>\n",
              "    </tr>\n",
              "    <tr>\n",
              "      <th>computer_internet</th>\n",
              "      <td>0.246622</td>\n",
              "      <td>296</td>\n",
              "    </tr>\n",
              "    <tr>\n",
              "      <th>science_technology</th>\n",
              "      <td>0.456747</td>\n",
              "      <td>289</td>\n",
              "    </tr>\n",
              "    <tr>\n",
              "      <th>gaming</th>\n",
              "      <td>0.368421</td>\n",
              "      <td>76</td>\n",
              "    </tr>\n",
              "    <tr>\n",
              "      <th>religion</th>\n",
              "      <td>0.416667</td>\n",
              "      <td>72</td>\n",
              "    </tr>\n",
              "    <tr>\n",
              "      <th>law_crime</th>\n",
              "      <td>0.419355</td>\n",
              "      <td>31</td>\n",
              "    </tr>\n",
              "    <tr>\n",
              "      <th>unknown</th>\n",
              "      <td>0.333333</td>\n",
              "      <td>6</td>\n",
              "    </tr>\n",
              "    <tr>\n",
              "      <th>weather</th>\n",
              "      <td>0.000000</td>\n",
              "      <td>4</td>\n",
              "    </tr>\n",
              "  </tbody>\n",
              "</table>\n",
              "</div>"
            ],
            "text/plain": [
              "                        mean  count\n",
              "alchemy_category                   \n",
              "?                   0.502135   2342\n",
              "recreation          0.684296   1229\n",
              "arts_entertainment  0.371945    941\n",
              "business            0.711364    880\n",
              "health              0.573123    506\n",
              "sports              0.205263    380\n",
              "culture_politics    0.457726    343\n",
              "computer_internet   0.246622    296\n",
              "science_technology  0.456747    289\n",
              "gaming              0.368421     76\n",
              "religion            0.416667     72\n",
              "law_crime           0.419355     31\n",
              "unknown             0.333333      6\n",
              "weather             0.000000      4"
            ]
          },
          "execution_count": 10,
          "metadata": {},
          "output_type": "execute_result"
        }
      ]
    },
    {
      "cell_type": "markdown",
      "metadata": {
        "id": "DR7anBEInXHw"
      },
      "source": [
        "After seeing the mean relatvely to the total number of articles per each category we can assume that the feature 'Alchemy_Category' is an important one for predicting our target variable."
      ]
    },
    {
      "cell_type": "code",
      "metadata": {
        "id": "RXlG9NwLnXHx",
        "outputId": "65b5ec94-2795-40c9-f6b5-eaff7cc116fb"
      },
      "source": [
        "sns.heatmap(df.corr().abs())"
      ],
      "execution_count": null,
      "outputs": [
        {
          "data": {
            "text/plain": [
              "<AxesSubplot:>"
            ]
          },
          "execution_count": 11,
          "metadata": {},
          "output_type": "execute_result"
        },
        {
          "data": {
            "image/png": "[encoded data removed]",
            "text/plain": [
              "<Figure size 432x288 with 2 Axes>"
            ]
          },
          "metadata": {
            "needs_background": "light"
          },
          "output_type": "display_data"
        }
      ]
    },
    {
      "cell_type": "markdown",
      "metadata": {
        "id": "jX9G-Q8unXHy"
      },
      "source": [
        "The feature framebased is correleted with all other features. Seems weird. Let's check what represent this column.\n",
        "The url id has no correlation with other features since it is just an id of each url and not a value or  a category.\n"
      ]
    },
    {
      "cell_type": "code",
      "metadata": {
        "id": "q6f6ugaSnXHy"
      },
      "source": [
        "del df['urlid']"
      ],
      "execution_count": null,
      "outputs": []
    },
    {
      "cell_type": "code",
      "metadata": {
        "id": "aihO4CSVnXHz",
        "outputId": "c90e5bc6-9314-45f4-e563-5c823ba03b40"
      },
      "source": [
        "df.framebased.value_counts()"
      ],
      "execution_count": null,
      "outputs": [
        {
          "data": {
            "text/plain": [
              "0    7395\n",
              "Name: framebased, dtype: int64"
            ]
          },
          "execution_count": 13,
          "metadata": {},
          "output_type": "execute_result"
        }
      ]
    },
    {
      "cell_type": "markdown",
      "metadata": {
        "id": "gjDRVmAgnXH0"
      },
      "source": [
        "The column has only 0 in values so that's why there correletion. And that doesn't mean that the feature is related to all other features. "
      ]
    },
    {
      "cell_type": "code",
      "metadata": {
        "id": "zkJysC7InXH0"
      },
      "source": [
        "del df['framebased']"
      ],
      "execution_count": null,
      "outputs": []
    },
    {
      "cell_type": "code",
      "metadata": {
        "id": "UQHhwQicnXH1",
        "outputId": "a10cba09-1b46-477d-9d4c-4e17ba6625d1"
      },
      "source": [
        "sns.heatmap(df.corr().abs())"
      ],
      "execution_count": null,
      "outputs": [
        {
          "data": {
            "text/plain": [
              "<AxesSubplot:>"
            ]
          },
          "execution_count": 15,
          "metadata": {},
          "output_type": "execute_result"
        },
        {
          "data": {
            "image/png": "[encoded data removed]",
            "text/plain": [
              "<Figure size 432x288 with 2 Axes>"
            ]
          },
          "metadata": {
            "needs_background": "light"
          },
          "output_type": "display_data"
        }
      ]
    },
    {
      "cell_type": "markdown",
      "metadata": {
        "id": "9duxG13AnXH2"
      },
      "source": [
        "Now that we have seen the correlation between features. Let's see the correletion only between all features and the target variable."
      ]
    },
    {
      "cell_type": "code",
      "metadata": {
        "id": "1BGpebz1nXH2",
        "outputId": "32c3c350-8955-4539-819a-8a1f4deef14f"
      },
      "source": [
        "sns.heatmap(df.corr().abs()[['label']].sort_values('label'))"
      ],
      "execution_count": null,
      "outputs": [
        {
          "data": {
            "text/plain": [
              "<AxesSubplot:>"
            ]
          },
          "execution_count": 16,
          "metadata": {},
          "output_type": "execute_result"
        },
        {
          "data": {
            "image/png": "[encoded data removed]",
            "text/plain": [
              "<Figure size 432x288 with 2 Axes>"
            ]
          },
          "metadata": {
            "needs_background": "light"
          },
          "output_type": "display_data"
        }
      ]
    },
    {
      "cell_type": "code",
      "metadata": {
        "id": "O1qBxfDonXH3",
        "outputId": "1979c2d4-81d2-4628-d7f2-2d4f6038eb09"
      },
      "source": [
        "sns.violinplot(x='label',y='frameTagRatio',data=df)"
      ],
      "execution_count": null,
      "outputs": [
        {
          "data": {
            "text/plain": [
              "<AxesSubplot:xlabel='label', ylabel='frameTagRatio'>"
            ]
          },
          "execution_count": 17,
          "metadata": {},
          "output_type": "execute_result"
        },
        {
          "data": {
            "image/png": "[encoded data removed]",
            "text/plain": [
              "<Figure size 432x288 with 1 Axes>"
            ]
          },
          "metadata": {
            "needs_background": "light"
          },
          "output_type": "display_data"
        }
      ]
    },
    {
      "cell_type": "code",
      "metadata": {
        "id": "oQ1sVb1tnXH4",
        "outputId": "085cd6be-3e4c-426c-d4f3-8c9d970d1cac"
      },
      "source": [
        "sns.violinplot(x='label',y='linkwordscore',data=df)"
      ],
      "execution_count": null,
      "outputs": [
        {
          "data": {
            "text/plain": [
              "<AxesSubplot:xlabel='label', ylabel='linkwordscore'>"
            ]
          },
          "execution_count": 18,
          "metadata": {},
          "output_type": "execute_result"
        },
        {
          "data": {
            "image/png": "[encoded data removed]",
            "text/plain": [
              "<Figure size 432x288 with 1 Axes>"
            ]
          },
          "metadata": {
            "needs_background": "light"
          },
          "output_type": "display_data"
        }
      ]
    },
    {
      "cell_type": "code",
      "metadata": {
        "id": "M63d-QKynXH5"
      },
      "source": [
        "\n",
        "features = df.drop('label',axis = 1)\n",
        "num_features = features.select_dtypes(np.number)"
      ],
      "execution_count": null,
      "outputs": []
    },
    {
      "cell_type": "code",
      "metadata": {
        "id": "bwk2kDgbnXH6",
        "outputId": "34fa1ec6-7011-4526-d731-39f7c5b45c90"
      },
      "source": [
        "num_features.columns"
      ],
      "execution_count": null,
      "outputs": [
        {
          "data": {
            "text/plain": [
              "Index(['avglinksize', 'commonlinkratio_1', 'commonlinkratio_2',\n",
              "       'commonlinkratio_3', 'commonlinkratio_4', 'compression_ratio',\n",
              "       'embed_ratio', 'frameTagRatio', 'hasDomainLink', 'html_ratio',\n",
              "       'image_ratio', 'lengthyLinkDomain', 'linkwordscore',\n",
              "       'non_markup_alphanum_characters', 'numberOfLinks', 'numwords_in_url',\n",
              "       'parametrizedLinkRatio', 'spelling_errors_ratio'],\n",
              "      dtype='object')"
            ]
          },
          "execution_count": 20,
          "metadata": {},
          "output_type": "execute_result"
        }
      ]
    },
    {
      "cell_type": "code",
      "metadata": {
        "id": "dCTFzJhZnXH6",
        "outputId": "d65b01c7-8386-48ba-fbfc-ad2e7ce9daf7"
      },
      "source": [
        "num_features.describe()"
      ],
      "execution_count": null,
      "outputs": [
        {
          "data": {
            "text/html": [
              "<div>\n",
              "<style scoped>\n",
              "    .dataframe tbody tr th:only-of-type {\n",
              "        vertical-align: middle;\n",
              "    }\n",
              "\n",
              "    .dataframe tbody tr th {\n",
              "        vertical-align: top;\n",
              "    }\n",
              "\n",
              "    .dataframe thead th {\n",
              "        text-align: right;\n",
              "    }\n",
              "</style>\n",
              "<table border=\"1\" class=\"dataframe\">\n",
              "  <thead>\n",
              "    <tr style=\"text-align: right;\">\n",
              "      <th></th>\n",
              "      <th>avglinksize</th>\n",
              "      <th>commonlinkratio_1</th>\n",
              "      <th>commonlinkratio_2</th>\n",
              "      <th>commonlinkratio_3</th>\n",
              "      <th>commonlinkratio_4</th>\n",
              "      <th>compression_ratio</th>\n",
              "      <th>embed_ratio</th>\n",
              "      <th>frameTagRatio</th>\n",
              "      <th>hasDomainLink</th>\n",
              "      <th>html_ratio</th>\n",
              "      <th>image_ratio</th>\n",
              "      <th>lengthyLinkDomain</th>\n",
              "      <th>linkwordscore</th>\n",
              "      <th>non_markup_alphanum_characters</th>\n",
              "      <th>numberOfLinks</th>\n",
              "      <th>numwords_in_url</th>\n",
              "      <th>parametrizedLinkRatio</th>\n",
              "      <th>spelling_errors_ratio</th>\n",
              "    </tr>\n",
              "  </thead>\n",
              "  <tbody>\n",
              "    <tr>\n",
              "      <th>count</th>\n",
              "      <td>7395.000000</td>\n",
              "      <td>7395.000000</td>\n",
              "      <td>7395.000000</td>\n",
              "      <td>7395.000000</td>\n",
              "      <td>7395.000000</td>\n",
              "      <td>7395.000000</td>\n",
              "      <td>7395.000000</td>\n",
              "      <td>7395.000000</td>\n",
              "      <td>7395.000000</td>\n",
              "      <td>7395.000000</td>\n",
              "      <td>7395.000000</td>\n",
              "      <td>7395.000000</td>\n",
              "      <td>7395.000000</td>\n",
              "      <td>7395.000000</td>\n",
              "      <td>7395.000000</td>\n",
              "      <td>7395.000000</td>\n",
              "      <td>7395.000000</td>\n",
              "      <td>7395.000000</td>\n",
              "    </tr>\n",
              "    <tr>\n",
              "      <th>mean</th>\n",
              "      <td>2.761823</td>\n",
              "      <td>0.468230</td>\n",
              "      <td>0.214080</td>\n",
              "      <td>0.092062</td>\n",
              "      <td>0.049262</td>\n",
              "      <td>2.255103</td>\n",
              "      <td>-0.103750</td>\n",
              "      <td>0.056423</td>\n",
              "      <td>0.021231</td>\n",
              "      <td>0.233778</td>\n",
              "      <td>0.275709</td>\n",
              "      <td>0.660311</td>\n",
              "      <td>30.077079</td>\n",
              "      <td>5716.598242</td>\n",
              "      <td>178.754564</td>\n",
              "      <td>4.960649</td>\n",
              "      <td>0.172864</td>\n",
              "      <td>0.101221</td>\n",
              "    </tr>\n",
              "    <tr>\n",
              "      <th>std</th>\n",
              "      <td>8.619793</td>\n",
              "      <td>0.203133</td>\n",
              "      <td>0.146743</td>\n",
              "      <td>0.095978</td>\n",
              "      <td>0.072629</td>\n",
              "      <td>5.704313</td>\n",
              "      <td>0.306545</td>\n",
              "      <td>0.041446</td>\n",
              "      <td>0.144162</td>\n",
              "      <td>0.052487</td>\n",
              "      <td>1.919320</td>\n",
              "      <td>0.473636</td>\n",
              "      <td>20.393101</td>\n",
              "      <td>8875.432430</td>\n",
              "      <td>179.466198</td>\n",
              "      <td>3.233111</td>\n",
              "      <td>0.183286</td>\n",
              "      <td>0.079231</td>\n",
              "    </tr>\n",
              "    <tr>\n",
              "      <th>min</th>\n",
              "      <td>0.000000</td>\n",
              "      <td>0.000000</td>\n",
              "      <td>0.000000</td>\n",
              "      <td>0.000000</td>\n",
              "      <td>0.000000</td>\n",
              "      <td>0.000000</td>\n",
              "      <td>-1.000000</td>\n",
              "      <td>0.000000</td>\n",
              "      <td>0.000000</td>\n",
              "      <td>0.045564</td>\n",
              "      <td>-1.000000</td>\n",
              "      <td>0.000000</td>\n",
              "      <td>0.000000</td>\n",
              "      <td>0.000000</td>\n",
              "      <td>1.000000</td>\n",
              "      <td>0.000000</td>\n",
              "      <td>0.000000</td>\n",
              "      <td>0.000000</td>\n",
              "    </tr>\n",
              "    <tr>\n",
              "      <th>25%</th>\n",
              "      <td>1.602062</td>\n",
              "      <td>0.340370</td>\n",
              "      <td>0.105263</td>\n",
              "      <td>0.022222</td>\n",
              "      <td>0.000000</td>\n",
              "      <td>0.442616</td>\n",
              "      <td>0.000000</td>\n",
              "      <td>0.028502</td>\n",
              "      <td>0.000000</td>\n",
              "      <td>0.201061</td>\n",
              "      <td>0.025900</td>\n",
              "      <td>0.000000</td>\n",
              "      <td>14.000000</td>\n",
              "      <td>1579.000000</td>\n",
              "      <td>82.000000</td>\n",
              "      <td>3.000000</td>\n",
              "      <td>0.040984</td>\n",
              "      <td>0.068739</td>\n",
              "    </tr>\n",
              "    <tr>\n",
              "      <th>50%</th>\n",
              "      <td>2.088235</td>\n",
              "      <td>0.481481</td>\n",
              "      <td>0.202454</td>\n",
              "      <td>0.068627</td>\n",
              "      <td>0.022222</td>\n",
              "      <td>0.483680</td>\n",
              "      <td>0.000000</td>\n",
              "      <td>0.045775</td>\n",
              "      <td>0.000000</td>\n",
              "      <td>0.230564</td>\n",
              "      <td>0.083051</td>\n",
              "      <td>1.000000</td>\n",
              "      <td>25.000000</td>\n",
              "      <td>3500.000000</td>\n",
              "      <td>139.000000</td>\n",
              "      <td>5.000000</td>\n",
              "      <td>0.113402</td>\n",
              "      <td>0.089312</td>\n",
              "    </tr>\n",
              "    <tr>\n",
              "      <th>75%</th>\n",
              "      <td>2.627451</td>\n",
              "      <td>0.616604</td>\n",
              "      <td>0.300000</td>\n",
              "      <td>0.133333</td>\n",
              "      <td>0.065065</td>\n",
              "      <td>0.578227</td>\n",
              "      <td>0.000000</td>\n",
              "      <td>0.073459</td>\n",
              "      <td>0.000000</td>\n",
              "      <td>0.260770</td>\n",
              "      <td>0.236700</td>\n",
              "      <td>1.000000</td>\n",
              "      <td>43.000000</td>\n",
              "      <td>6377.000000</td>\n",
              "      <td>222.000000</td>\n",
              "      <td>7.000000</td>\n",
              "      <td>0.241299</td>\n",
              "      <td>0.112376</td>\n",
              "    </tr>\n",
              "    <tr>\n",
              "      <th>max</th>\n",
              "      <td>363.000000</td>\n",
              "      <td>1.000000</td>\n",
              "      <td>1.000000</td>\n",
              "      <td>0.980392</td>\n",
              "      <td>0.980392</td>\n",
              "      <td>21.000000</td>\n",
              "      <td>0.250000</td>\n",
              "      <td>0.444444</td>\n",
              "      <td>1.000000</td>\n",
              "      <td>0.716883</td>\n",
              "      <td>113.333333</td>\n",
              "      <td>1.000000</td>\n",
              "      <td>100.000000</td>\n",
              "      <td>207952.000000</td>\n",
              "      <td>4997.000000</td>\n",
              "      <td>22.000000</td>\n",
              "      <td>1.000000</td>\n",
              "      <td>1.000000</td>\n",
              "    </tr>\n",
              "  </tbody>\n",
              "</table>\n",
              "</div>"
            ],
            "text/plain": [
              "       avglinksize  commonlinkratio_1  commonlinkratio_2  commonlinkratio_3  \\\n",
              "count  7395.000000        7395.000000        7395.000000        7395.000000   \n",
              "mean      2.761823           0.468230           0.214080           0.092062   \n",
              "std       8.619793           0.203133           0.146743           0.095978   \n",
              "min       0.000000           0.000000           0.000000           0.000000   \n",
              "25%       1.602062           0.340370           0.105263           0.022222   \n",
              "50%       2.088235           0.481481           0.202454           0.068627   \n",
              "75%       2.627451           0.616604           0.300000           0.133333   \n",
              "max     363.000000           1.000000           1.000000           0.980392   \n",
              "\n",
              "       commonlinkratio_4  compression_ratio  embed_ratio  frameTagRatio  \\\n",
              "count        7395.000000        7395.000000  7395.000000    7395.000000   \n",
              "mean            0.049262           2.255103    -0.103750       0.056423   \n",
              "std             0.072629           5.704313     0.306545       0.041446   \n",
              "min             0.000000           0.000000    -1.000000       0.000000   \n",
              "25%             0.000000           0.442616     0.000000       0.028502   \n",
              "50%             0.022222           0.483680     0.000000       0.045775   \n",
              "75%             0.065065           0.578227     0.000000       0.073459   \n",
              "max             0.980392          21.000000     0.250000       0.444444   \n",
              "\n",
              "       hasDomainLink   html_ratio  image_ratio  lengthyLinkDomain  \\\n",
              "count    7395.000000  7395.000000  7395.000000        7395.000000   \n",
              "mean        0.021231     0.233778     0.275709           0.660311   \n",
              "std         0.144162     0.052487     1.919320           0.473636   \n",
              "min         0.000000     0.045564    -1.000000           0.000000   \n",
              "25%         0.000000     0.201061     0.025900           0.000000   \n",
              "50%         0.000000     0.230564     0.083051           1.000000   \n",
              "75%         0.000000     0.260770     0.236700           1.000000   \n",
              "max         1.000000     0.716883   113.333333           1.000000   \n",
              "\n",
              "       linkwordscore  non_markup_alphanum_characters  numberOfLinks  \\\n",
              "count    7395.000000                     7395.000000    7395.000000   \n",
              "mean       30.077079                     5716.598242     178.754564   \n",
              "std        20.393101                     8875.432430     179.466198   \n",
              "min         0.000000                        0.000000       1.000000   \n",
              "25%        14.000000                     1579.000000      82.000000   \n",
              "50%        25.000000                     3500.000000     139.000000   \n",
              "75%        43.000000                     6377.000000     222.000000   \n",
              "max       100.000000                   207952.000000    4997.000000   \n",
              "\n",
              "       numwords_in_url  parametrizedLinkRatio  spelling_errors_ratio  \n",
              "count      7395.000000            7395.000000            7395.000000  \n",
              "mean          4.960649               0.172864               0.101221  \n",
              "std           3.233111               0.183286               0.079231  \n",
              "min           0.000000               0.000000               0.000000  \n",
              "25%           3.000000               0.040984               0.068739  \n",
              "50%           5.000000               0.113402               0.089312  \n",
              "75%           7.000000               0.241299               0.112376  \n",
              "max          22.000000               1.000000               1.000000  "
            ]
          },
          "execution_count": 21,
          "metadata": {},
          "output_type": "execute_result"
        }
      ]
    },
    {
      "cell_type": "code",
      "metadata": {
        "id": "yq3DxQ4InXH7",
        "outputId": "b223ce9b-5812-48c1-8250-7e71f6d8186c"
      },
      "source": [
        "num_features.avglinksize.apply(np.log1p).plot.hist(bins=50)\n",
        "num_features.commonlinkratio_1.apply(np.log1p).plot.hist(bins=50)"
      ],
      "execution_count": null,
      "outputs": [
        {
          "data": {
            "text/plain": [
              "<AxesSubplot:ylabel='Frequency'>"
            ]
          },
          "execution_count": 22,
          "metadata": {},
          "output_type": "execute_result"
        },
        {
          "data": {
            "image/png": "[encoded data removed]",
            "text/plain": [
              "<Figure size 432x288 with 1 Axes>"
            ]
          },
          "metadata": {
            "needs_background": "light"
          },
          "output_type": "display_data"
        }
      ]
    },
    {
      "cell_type": "code",
      "metadata": {
        "id": "VFCwnt_QnXH7",
        "outputId": "fc1febdd-a9eb-4b19-ba3b-dfd01e3b8df8"
      },
      "source": [
        "cat_features = features.select_dtypes(include=[np.object])\n",
        "cat_features.sample(6)"
      ],
      "execution_count": null,
      "outputs": [
        {
          "name": "stderr",
          "output_type": "stream",
          "text": [
            "C:\\Users\\dell\\AppData\\Local\\Programs\\Python\\Python37\\lib\\site-packages\\ipykernel_launcher.py:1: DeprecationWarning: `np.object` is a deprecated alias for the builtin `object`. To silence this warning, use `object` by itself. Doing this will not modify any behavior and is safe. \n",
            "Deprecated in NumPy 1.20; for more details and guidance: https://numpy.org/devdocs/release/1.20.0-notes.html#deprecations\n",
            "  \"\"\"Entry point for launching an IPython kernel.\n"
          ]
        },
        {
          "data": {
            "text/html": [
              "<div>\n",
              "<style scoped>\n",
              "    .dataframe tbody tr th:only-of-type {\n",
              "        vertical-align: middle;\n",
              "    }\n",
              "\n",
              "    .dataframe tbody tr th {\n",
              "        vertical-align: top;\n",
              "    }\n",
              "\n",
              "    .dataframe thead th {\n",
              "        text-align: right;\n",
              "    }\n",
              "</style>\n",
              "<table border=\"1\" class=\"dataframe\">\n",
              "  <thead>\n",
              "    <tr style=\"text-align: right;\">\n",
              "      <th></th>\n",
              "      <th>url</th>\n",
              "      <th>boilerplate</th>\n",
              "      <th>alchemy_category</th>\n",
              "      <th>alchemy_category_score</th>\n",
              "      <th>is_news</th>\n",
              "      <th>news_front_page</th>\n",
              "    </tr>\n",
              "  </thead>\n",
              "  <tbody>\n",
              "    <tr>\n",
              "      <th>2375</th>\n",
              "      <td>http://www.nimh.nih.gov/about/director/2011/ne...</td>\n",
              "      <td>{\"title\":\"NIMH New Findings Reveal New Worlds ...</td>\n",
              "      <td>?</td>\n",
              "      <td>?</td>\n",
              "      <td>?</td>\n",
              "      <td>0</td>\n",
              "    </tr>\n",
              "    <tr>\n",
              "      <th>7017</th>\n",
              "      <td>http://www.livestrong.com/slideshow/550744-the...</td>\n",
              "      <td>{\"title\":\"The 20 Most Overrated Supplements Sl...</td>\n",
              "      <td>science_technology</td>\n",
              "      <td>0.799833</td>\n",
              "      <td>?</td>\n",
              "      <td>0</td>\n",
              "    </tr>\n",
              "    <tr>\n",
              "      <th>2272</th>\n",
              "      <td>http://scoopertino.com/</td>\n",
              "      <td>{\"title\":\"Scoopertino Unreal Apple news \",\"bod...</td>\n",
              "      <td>business</td>\n",
              "      <td>0.523264</td>\n",
              "      <td>1</td>\n",
              "      <td>1</td>\n",
              "    </tr>\n",
              "    <tr>\n",
              "      <th>4001</th>\n",
              "      <td>http://www.gmushrooms.com/OliveOil/</td>\n",
              "      <td>{\"title\":\"Gourmet Finishing Oils Exquisite Fla...</td>\n",
              "      <td>business</td>\n",
              "      <td>0.847048</td>\n",
              "      <td>?</td>\n",
              "      <td>0</td>\n",
              "    </tr>\n",
              "    <tr>\n",
              "      <th>2248</th>\n",
              "      <td>http://www.preparedpantry.com/Recipes/Make-Ups...</td>\n",
              "      <td>{\"title\":\"Easy Upside Down Cake How to Make Up...</td>\n",
              "      <td>recreation</td>\n",
              "      <td>0.544111</td>\n",
              "      <td>?</td>\n",
              "      <td>0</td>\n",
              "    </tr>\n",
              "    <tr>\n",
              "      <th>3405</th>\n",
              "      <td>http://www.ehow.com/how_4662492_ice-cream-less...</td>\n",
              "      <td>{\"title\":\"How to make Homemade Ice Cream in le...</td>\n",
              "      <td>business</td>\n",
              "      <td>0.57966</td>\n",
              "      <td>1</td>\n",
              "      <td>0</td>\n",
              "    </tr>\n",
              "  </tbody>\n",
              "</table>\n",
              "</div>"
            ],
            "text/plain": [
              "                                                    url  \\\n",
              "2375  http://www.nimh.nih.gov/about/director/2011/ne...   \n",
              "7017  http://www.livestrong.com/slideshow/550744-the...   \n",
              "2272                            http://scoopertino.com/   \n",
              "4001                http://www.gmushrooms.com/OliveOil/   \n",
              "2248  http://www.preparedpantry.com/Recipes/Make-Ups...   \n",
              "3405  http://www.ehow.com/how_4662492_ice-cream-less...   \n",
              "\n",
              "                                            boilerplate    alchemy_category  \\\n",
              "2375  {\"title\":\"NIMH New Findings Reveal New Worlds ...                   ?   \n",
              "7017  {\"title\":\"The 20 Most Overrated Supplements Sl...  science_technology   \n",
              "2272  {\"title\":\"Scoopertino Unreal Apple news \",\"bod...            business   \n",
              "4001  {\"title\":\"Gourmet Finishing Oils Exquisite Fla...            business   \n",
              "2248  {\"title\":\"Easy Upside Down Cake How to Make Up...          recreation   \n",
              "3405  {\"title\":\"How to make Homemade Ice Cream in le...            business   \n",
              "\n",
              "     alchemy_category_score is_news news_front_page  \n",
              "2375                      ?       ?               0  \n",
              "7017               0.799833       ?               0  \n",
              "2272               0.523264       1               1  \n",
              "4001               0.847048       ?               0  \n",
              "2248               0.544111       ?               0  \n",
              "3405                0.57966       1               0  "
            ]
          },
          "execution_count": 23,
          "metadata": {},
          "output_type": "execute_result"
        }
      ]
    },
    {
      "cell_type": "code",
      "metadata": {
        "id": "PBDJu024nXH8",
        "outputId": "f363ebad-0a38-4551-9975-f9657949f123"
      },
      "source": [
        "cat_features[cat_features.alchemy_category_score!='?'].alchemy_category_score.astype(float).plot.hist()"
      ],
      "execution_count": null,
      "outputs": [
        {
          "data": {
            "text/plain": [
              "<AxesSubplot:ylabel='Frequency'>"
            ]
          },
          "execution_count": 24,
          "metadata": {},
          "output_type": "execute_result"
        },
        {
          "data": {
            "image/png": "[encoded data removed]",
            "text/plain": [
              "<Figure size 432x288 with 1 Axes>"
            ]
          },
          "metadata": {
            "needs_background": "light"
          },
          "output_type": "display_data"
        }
      ]
    },
    {
      "cell_type": "code",
      "metadata": {
        "id": "xqiEuJfvnXH8"
      },
      "source": [
        "del df['alchemy_category_score']"
      ],
      "execution_count": null,
      "outputs": []
    },
    {
      "cell_type": "code",
      "metadata": {
        "id": "F8G-XcltnXH9",
        "outputId": "549ea59e-75ed-4c63-9f9f-63d8a700d231"
      },
      "source": [
        "df.is_news.value_counts()"
      ],
      "execution_count": null,
      "outputs": [
        {
          "data": {
            "text/plain": [
              "1    4552\n",
              "?    2843\n",
              "Name: is_news, dtype: int64"
            ]
          },
          "execution_count": 26,
          "metadata": {},
          "output_type": "execute_result"
        }
      ]
    },
    {
      "cell_type": "code",
      "metadata": {
        "id": "3kHw6LXrnXH9",
        "outputId": "f711aa19-8845-43c3-fd07-ac28ef8d678a"
      },
      "source": [
        "df.is_news= df.is_news.str.replace('?','0').astype(int) "
      ],
      "execution_count": null,
      "outputs": [
        {
          "name": "stderr",
          "output_type": "stream",
          "text": [
            "C:\\Users\\dell\\AppData\\Local\\Programs\\Python\\Python37\\lib\\site-packages\\ipykernel_launcher.py:1: FutureWarning: The default value of regex will change from True to False in a future version. In addition, single character regular expressions will*not* be treated as literal strings when regex=True.\n",
            "  \"\"\"Entry point for launching an IPython kernel.\n"
          ]
        }
      ]
    },
    {
      "cell_type": "code",
      "metadata": {
        "id": "pz_JgPXFnXH-",
        "outputId": "57d9f6ea-269e-4acb-9979-3427c46dcef0"
      },
      "source": [
        "df.news_front_page.value_counts()"
      ],
      "execution_count": null,
      "outputs": [
        {
          "data": {
            "text/plain": [
              "0    5853\n",
              "?    1248\n",
              "1     294\n",
              "Name: news_front_page, dtype: int64"
            ]
          },
          "execution_count": 28,
          "metadata": {},
          "output_type": "execute_result"
        }
      ]
    },
    {
      "cell_type": "code",
      "metadata": {
        "id": "IKr8smcCnXH-",
        "outputId": "c0861fe9-a0a3-4db3-e33d-bca912935510"
      },
      "source": [
        "df.boilerplate.iloc[1]"
      ],
      "execution_count": null,
      "outputs": [
        {
          "data": {
            "text/plain": [
              "'{\"title\":\"The Fully Electronic Futuristic Starting Gun That Eliminates Advantages in Races the fully electronic, futuristic starting gun that eliminates advantages in races the fully electronic, futuristic starting gun that eliminates advantages in races\",\"body\":\"And that can be carried on a plane without the hassle too The Omega E Gun Starting Pistol Omega It s easy to take for granted just how insanely close some Olympic races are and how much the minutiae of it all can matter The perfect example is the traditional starting gun Seems easy You pull a trigger and the race starts Boom What people don t consider When a conventional gun goes off the sound travels to the ears of the closest runner a fraction of a second sooner than the others That s just enough to matter and why the latest starting pistol has traded in the mechanical boom for orchestrated electronic noise Omega has been the watch company tasked as the official timekeeper of the Olympic Games since 1932 At the 2010 Vancouver games they debuted their new starting gun which is a far cry from the iconic revolvers associated with early games it s clearly electronic but still more than a button that s pressed to get the show rolling About as far away as you can get probably while still clearly being a starting gun Pull the trigger once and off the Olympians go If it s pressed twice consecutively it signals a false start Working through a speaker system is what eliminates any kind of advantage for athletes It s not a big advantage being close to a gun but the sound of the bullet traveling one meter every three milliseconds could contribute to a win Powder pistols have been connected to a speaker system before but even then runners could react to the sound of the real pistol firing rather than wait for the speaker sounds to reach them This year s setup will have speakers placed equidistant from runners forcing the sound to reach each competitor at exactly the same time It wouldn t be an enormous difference Omega Timing board member Peter H\\\\u00fcrzeler said in an email but when you think about reaction times being measured in tiny fractions of a second placing a speaker behind each lane has eliminated any sort of advantage for any athlete They all hear the start commands and signal at exactly the same moment There s also an ulterior reason for its look In a post September 11th world a gun on its way to a major event is going to raise more than a few TSA eyebrows even if it s a realistic looking fake Rather than deal with that the e gun can be transported while still maintaining the general look of a starting gun But there s still nothing like hearing a starting gun go off at the start of a race more than signaling the runners there s probably some Pavlovian response after more than a century of Olympic games that make people want to hear the real thing not a whiny electronic noise Everyone in the stands at home thankfully will still be getting that The sound is programmable and can be synthesized to sound like almost anything H\\\\u00fcrzeler says but we program it to sound like a pistol it s a way to use the best possible starting technology but to keep a rich tradition alive and that can be carried on a plane without the hassle, too technology,gadgets,london 2012,london olympics,olympics,omega,starting guns,summer olympics,timing,popular science,popsci\",\"url\":\"popsci technology article 2012 07 electronic futuristic starting gun eliminates advantages races\"}'"
            ]
          },
          "execution_count": 29,
          "metadata": {},
          "output_type": "execute_result"
        }
      ]
    },
    {
      "cell_type": "markdown",
      "metadata": {
        "id": "Bgq8j-uQnXH_"
      },
      "source": [
        "The two categories variables url and boireplate represent a strong feature because we can find very important information that could improve our prediction. These leads us to use NLP since we are dealing with text data. At this stage we will choose just alchemy_category and news_front_page as our categorical variables."
      ]
    },
    {
      "cell_type": "code",
      "metadata": {
        "id": "-HykSZxvnXH_",
        "outputId": "5ac9fc60-2aff-4e10-eca9-af0f9c87ee9c"
      },
      "source": [
        "cat_features=cat_features[['alchemy_category','news_front_page']] \n",
        "cat_features.head()"
      ],
      "execution_count": null,
      "outputs": [
        {
          "data": {
            "text/html": [
              "<div>\n",
              "<style scoped>\n",
              "    .dataframe tbody tr th:only-of-type {\n",
              "        vertical-align: middle;\n",
              "    }\n",
              "\n",
              "    .dataframe tbody tr th {\n",
              "        vertical-align: top;\n",
              "    }\n",
              "\n",
              "    .dataframe thead th {\n",
              "        text-align: right;\n",
              "    }\n",
              "</style>\n",
              "<table border=\"1\" class=\"dataframe\">\n",
              "  <thead>\n",
              "    <tr style=\"text-align: right;\">\n",
              "      <th></th>\n",
              "      <th>alchemy_category</th>\n",
              "      <th>news_front_page</th>\n",
              "    </tr>\n",
              "  </thead>\n",
              "  <tbody>\n",
              "    <tr>\n",
              "      <th>0</th>\n",
              "      <td>business</td>\n",
              "      <td>0</td>\n",
              "    </tr>\n",
              "    <tr>\n",
              "      <th>1</th>\n",
              "      <td>recreation</td>\n",
              "      <td>0</td>\n",
              "    </tr>\n",
              "    <tr>\n",
              "      <th>2</th>\n",
              "      <td>health</td>\n",
              "      <td>0</td>\n",
              "    </tr>\n",
              "    <tr>\n",
              "      <th>3</th>\n",
              "      <td>health</td>\n",
              "      <td>0</td>\n",
              "    </tr>\n",
              "    <tr>\n",
              "      <th>4</th>\n",
              "      <td>sports</td>\n",
              "      <td>0</td>\n",
              "    </tr>\n",
              "  </tbody>\n",
              "</table>\n",
              "</div>"
            ],
            "text/plain": [
              "  alchemy_category news_front_page\n",
              "0         business               0\n",
              "1       recreation               0\n",
              "2           health               0\n",
              "3           health               0\n",
              "4           sports               0"
            ]
          },
          "execution_count": 30,
          "metadata": {},
          "output_type": "execute_result"
        }
      ]
    },
    {
      "cell_type": "code",
      "metadata": {
        "id": "ltSrGJy5nXIA",
        "outputId": "2275d89f-c616-4e98-962d-4b9da6c81181"
      },
      "source": [
        "encoding = pd.get_dummies(cat_features)\n",
        "encoding.head()"
      ],
      "execution_count": null,
      "outputs": [
        {
          "data": {
            "text/html": [
              "<div>\n",
              "<style scoped>\n",
              "    .dataframe tbody tr th:only-of-type {\n",
              "        vertical-align: middle;\n",
              "    }\n",
              "\n",
              "    .dataframe tbody tr th {\n",
              "        vertical-align: top;\n",
              "    }\n",
              "\n",
              "    .dataframe thead th {\n",
              "        text-align: right;\n",
              "    }\n",
              "</style>\n",
              "<table border=\"1\" class=\"dataframe\">\n",
              "  <thead>\n",
              "    <tr style=\"text-align: right;\">\n",
              "      <th></th>\n",
              "      <th>alchemy_category_?</th>\n",
              "      <th>alchemy_category_arts_entertainment</th>\n",
              "      <th>alchemy_category_business</th>\n",
              "      <th>alchemy_category_computer_internet</th>\n",
              "      <th>alchemy_category_culture_politics</th>\n",
              "      <th>alchemy_category_gaming</th>\n",
              "      <th>alchemy_category_health</th>\n",
              "      <th>alchemy_category_law_crime</th>\n",
              "      <th>alchemy_category_recreation</th>\n",
              "      <th>alchemy_category_religion</th>\n",
              "      <th>alchemy_category_science_technology</th>\n",
              "      <th>alchemy_category_sports</th>\n",
              "      <th>alchemy_category_unknown</th>\n",
              "      <th>alchemy_category_weather</th>\n",
              "      <th>news_front_page_0</th>\n",
              "      <th>news_front_page_1</th>\n",
              "      <th>news_front_page_?</th>\n",
              "    </tr>\n",
              "  </thead>\n",
              "  <tbody>\n",
              "    <tr>\n",
              "      <th>0</th>\n",
              "      <td>0</td>\n",
              "      <td>0</td>\n",
              "      <td>1</td>\n",
              "      <td>0</td>\n",
              "      <td>0</td>\n",
              "      <td>0</td>\n",
              "      <td>0</td>\n",
              "      <td>0</td>\n",
              "      <td>0</td>\n",
              "      <td>0</td>\n",
              "      <td>0</td>\n",
              "      <td>0</td>\n",
              "      <td>0</td>\n",
              "      <td>0</td>\n",
              "      <td>1</td>\n",
              "      <td>0</td>\n",
              "      <td>0</td>\n",
              "    </tr>\n",
              "    <tr>\n",
              "      <th>1</th>\n",
              "      <td>0</td>\n",
              "      <td>0</td>\n",
              "      <td>0</td>\n",
              "      <td>0</td>\n",
              "      <td>0</td>\n",
              "      <td>0</td>\n",
              "      <td>0</td>\n",
              "      <td>0</td>\n",
              "      <td>1</td>\n",
              "      <td>0</td>\n",
              "      <td>0</td>\n",
              "      <td>0</td>\n",
              "      <td>0</td>\n",
              "      <td>0</td>\n",
              "      <td>1</td>\n",
              "      <td>0</td>\n",
              "      <td>0</td>\n",
              "    </tr>\n",
              "    <tr>\n",
              "      <th>2</th>\n",
              "      <td>0</td>\n",
              "      <td>0</td>\n",
              "      <td>0</td>\n",
              "      <td>0</td>\n",
              "      <td>0</td>\n",
              "      <td>0</td>\n",
              "      <td>1</td>\n",
              "      <td>0</td>\n",
              "      <td>0</td>\n",
              "      <td>0</td>\n",
              "      <td>0</td>\n",
              "      <td>0</td>\n",
              "      <td>0</td>\n",
              "      <td>0</td>\n",
              "      <td>1</td>\n",
              "      <td>0</td>\n",
              "      <td>0</td>\n",
              "    </tr>\n",
              "    <tr>\n",
              "      <th>3</th>\n",
              "      <td>0</td>\n",
              "      <td>0</td>\n",
              "      <td>0</td>\n",
              "      <td>0</td>\n",
              "      <td>0</td>\n",
              "      <td>0</td>\n",
              "      <td>1</td>\n",
              "      <td>0</td>\n",
              "      <td>0</td>\n",
              "      <td>0</td>\n",
              "      <td>0</td>\n",
              "      <td>0</td>\n",
              "      <td>0</td>\n",
              "      <td>0</td>\n",
              "      <td>1</td>\n",
              "      <td>0</td>\n",
              "      <td>0</td>\n",
              "    </tr>\n",
              "    <tr>\n",
              "      <th>4</th>\n",
              "      <td>0</td>\n",
              "      <td>0</td>\n",
              "      <td>0</td>\n",
              "      <td>0</td>\n",
              "      <td>0</td>\n",
              "      <td>0</td>\n",
              "      <td>0</td>\n",
              "      <td>0</td>\n",
              "      <td>0</td>\n",
              "      <td>0</td>\n",
              "      <td>0</td>\n",
              "      <td>1</td>\n",
              "      <td>0</td>\n",
              "      <td>0</td>\n",
              "      <td>1</td>\n",
              "      <td>0</td>\n",
              "      <td>0</td>\n",
              "    </tr>\n",
              "  </tbody>\n",
              "</table>\n",
              "</div>"
            ],
            "text/plain": [
              "   alchemy_category_?  alchemy_category_arts_entertainment  \\\n",
              "0                   0                                    0   \n",
              "1                   0                                    0   \n",
              "2                   0                                    0   \n",
              "3                   0                                    0   \n",
              "4                   0                                    0   \n",
              "\n",
              "   alchemy_category_business  alchemy_category_computer_internet  \\\n",
              "0                          1                                   0   \n",
              "1                          0                                   0   \n",
              "2                          0                                   0   \n",
              "3                          0                                   0   \n",
              "4                          0                                   0   \n",
              "\n",
              "   alchemy_category_culture_politics  alchemy_category_gaming  \\\n",
              "0                                  0                        0   \n",
              "1                                  0                        0   \n",
              "2                                  0                        0   \n",
              "3                                  0                        0   \n",
              "4                                  0                        0   \n",
              "\n",
              "   alchemy_category_health  alchemy_category_law_crime  \\\n",
              "0                        0                           0   \n",
              "1                        0                           0   \n",
              "2                        1                           0   \n",
              "3                        1                           0   \n",
              "4                        0                           0   \n",
              "\n",
              "   alchemy_category_recreation  alchemy_category_religion  \\\n",
              "0                            0                          0   \n",
              "1                            1                          0   \n",
              "2                            0                          0   \n",
              "3                            0                          0   \n",
              "4                            0                          0   \n",
              "\n",
              "   alchemy_category_science_technology  alchemy_category_sports  \\\n",
              "0                                    0                        0   \n",
              "1                                    0                        0   \n",
              "2                                    0                        0   \n",
              "3                                    0                        0   \n",
              "4                                    0                        1   \n",
              "\n",
              "   alchemy_category_unknown  alchemy_category_weather  news_front_page_0  \\\n",
              "0                         0                         0                  1   \n",
              "1                         0                         0                  1   \n",
              "2                         0                         0                  1   \n",
              "3                         0                         0                  1   \n",
              "4                         0                         0                  1   \n",
              "\n",
              "   news_front_page_1  news_front_page_?  \n",
              "0                  0                  0  \n",
              "1                  0                  0  \n",
              "2                  0                  0  \n",
              "3                  0                  0  \n",
              "4                  0                  0  "
            ]
          },
          "execution_count": 31,
          "metadata": {},
          "output_type": "execute_result"
        }
      ]
    },
    {
      "cell_type": "code",
      "metadata": {
        "id": "Un9T-jJInXIB",
        "outputId": "5921ccde-46c7-48c9-932e-cd95cb09221a"
      },
      "source": [
        "features = df.drop('label',axis = 1)\n",
        "num_features = features.select_dtypes(np.number)\n",
        "type(num_features)"
      ],
      "execution_count": null,
      "outputs": [
        {
          "data": {
            "text/plain": [
              "pandas.core.frame.DataFrame"
            ]
          },
          "execution_count": 32,
          "metadata": {},
          "output_type": "execute_result"
        }
      ]
    },
    {
      "cell_type": "markdown",
      "metadata": {
        "id": "XsH69ONsnXIC"
      },
      "source": [
        "### Modeling \n"
      ]
    },
    {
      "cell_type": "code",
      "metadata": {
        "id": "gdod9ZpqnXIC",
        "outputId": "ddac5497-606c-4cce-8da1-1a4543676956"
      },
      "source": [
        "features = pd.concat([num_features,encoding],axis=1)\n",
        "target = df['label']\n",
        "type(num_features)"
      ],
      "execution_count": null,
      "outputs": [
        {
          "data": {
            "text/plain": [
              "pandas.core.frame.DataFrame"
            ]
          },
          "execution_count": 33,
          "metadata": {},
          "output_type": "execute_result"
        }
      ]
    },
    {
      "cell_type": "code",
      "metadata": {
        "id": "5tVfGs9MnXID",
        "outputId": "18aa8c56-4a3b-40d7-b2c3-9631e8798e97"
      },
      "source": [
        "#normalization \n",
        "features = (features-features.mean())/features.std()\n",
        "features.describe()"
      ],
      "execution_count": null,
      "outputs": [
        {
          "data": {
            "text/html": [
              "<div>\n",
              "<style scoped>\n",
              "    .dataframe tbody tr th:only-of-type {\n",
              "        vertical-align: middle;\n",
              "    }\n",
              "\n",
              "    .dataframe tbody tr th {\n",
              "        vertical-align: top;\n",
              "    }\n",
              "\n",
              "    .dataframe thead th {\n",
              "        text-align: right;\n",
              "    }\n",
              "</style>\n",
              "<table border=\"1\" class=\"dataframe\">\n",
              "  <thead>\n",
              "    <tr style=\"text-align: right;\">\n",
              "      <th></th>\n",
              "      <th>avglinksize</th>\n",
              "      <th>commonlinkratio_1</th>\n",
              "      <th>commonlinkratio_2</th>\n",
              "      <th>commonlinkratio_3</th>\n",
              "      <th>commonlinkratio_4</th>\n",
              "      <th>compression_ratio</th>\n",
              "      <th>embed_ratio</th>\n",
              "      <th>frameTagRatio</th>\n",
              "      <th>hasDomainLink</th>\n",
              "      <th>html_ratio</th>\n",
              "      <th>...</th>\n",
              "      <th>alchemy_category_law_crime</th>\n",
              "      <th>alchemy_category_recreation</th>\n",
              "      <th>alchemy_category_religion</th>\n",
              "      <th>alchemy_category_science_technology</th>\n",
              "      <th>alchemy_category_sports</th>\n",
              "      <th>alchemy_category_unknown</th>\n",
              "      <th>alchemy_category_weather</th>\n",
              "      <th>news_front_page_0</th>\n",
              "      <th>news_front_page_1</th>\n",
              "      <th>news_front_page_?</th>\n",
              "    </tr>\n",
              "  </thead>\n",
              "  <tbody>\n",
              "    <tr>\n",
              "      <th>count</th>\n",
              "      <td>7.395000e+03</td>\n",
              "      <td>7.395000e+03</td>\n",
              "      <td>7.395000e+03</td>\n",
              "      <td>7.395000e+03</td>\n",
              "      <td>7.395000e+03</td>\n",
              "      <td>7.395000e+03</td>\n",
              "      <td>7.395000e+03</td>\n",
              "      <td>7.395000e+03</td>\n",
              "      <td>7.395000e+03</td>\n",
              "      <td>7.395000e+03</td>\n",
              "      <td>...</td>\n",
              "      <td>7.395000e+03</td>\n",
              "      <td>7.395000e+03</td>\n",
              "      <td>7.395000e+03</td>\n",
              "      <td>7.395000e+03</td>\n",
              "      <td>7.395000e+03</td>\n",
              "      <td>7.395000e+03</td>\n",
              "      <td>7.395000e+03</td>\n",
              "      <td>7.395000e+03</td>\n",
              "      <td>7.395000e+03</td>\n",
              "      <td>7.395000e+03</td>\n",
              "    </tr>\n",
              "    <tr>\n",
              "      <th>mean</th>\n",
              "      <td>-4.900295e-17</td>\n",
              "      <td>1.133794e-16</td>\n",
              "      <td>-4.323789e-17</td>\n",
              "      <td>1.018493e-16</td>\n",
              "      <td>7.926947e-18</td>\n",
              "      <td>4.996379e-17</td>\n",
              "      <td>-1.345179e-17</td>\n",
              "      <td>1.671865e-16</td>\n",
              "      <td>-2.642316e-18</td>\n",
              "      <td>3.535899e-16</td>\n",
              "      <td>...</td>\n",
              "      <td>-1.056926e-17</td>\n",
              "      <td>1.249095e-17</td>\n",
              "      <td>3.362947e-17</td>\n",
              "      <td>-4.804211e-17</td>\n",
              "      <td>2.594274e-17</td>\n",
              "      <td>4.804211e-18</td>\n",
              "      <td>1.825600e-17</td>\n",
              "      <td>1.287528e-16</td>\n",
              "      <td>7.974989e-17</td>\n",
              "      <td>-1.321158e-17</td>\n",
              "    </tr>\n",
              "    <tr>\n",
              "      <th>std</th>\n",
              "      <td>1.000000e+00</td>\n",
              "      <td>1.000000e+00</td>\n",
              "      <td>1.000000e+00</td>\n",
              "      <td>1.000000e+00</td>\n",
              "      <td>1.000000e+00</td>\n",
              "      <td>1.000000e+00</td>\n",
              "      <td>1.000000e+00</td>\n",
              "      <td>1.000000e+00</td>\n",
              "      <td>1.000000e+00</td>\n",
              "      <td>1.000000e+00</td>\n",
              "      <td>...</td>\n",
              "      <td>1.000000e+00</td>\n",
              "      <td>1.000000e+00</td>\n",
              "      <td>1.000000e+00</td>\n",
              "      <td>1.000000e+00</td>\n",
              "      <td>1.000000e+00</td>\n",
              "      <td>1.000000e+00</td>\n",
              "      <td>1.000000e+00</td>\n",
              "      <td>1.000000e+00</td>\n",
              "      <td>1.000000e+00</td>\n",
              "      <td>1.000000e+00</td>\n",
              "    </tr>\n",
              "    <tr>\n",
              "      <th>min</th>\n",
              "      <td>-3.204048e-01</td>\n",
              "      <td>-2.305040e+00</td>\n",
              "      <td>-1.458879e+00</td>\n",
              "      <td>-9.592006e-01</td>\n",
              "      <td>-6.782737e-01</td>\n",
              "      <td>-3.953330e-01</td>\n",
              "      <td>-2.923712e+00</td>\n",
              "      <td>-1.361367e+00</td>\n",
              "      <td>-1.472689e-01</td>\n",
              "      <td>-3.585945e+00</td>\n",
              "      <td>...</td>\n",
              "      <td>-6.487757e-02</td>\n",
              "      <td>-4.464212e-01</td>\n",
              "      <td>-9.914992e-02</td>\n",
              "      <td>-2.016541e-01</td>\n",
              "      <td>-2.327280e-01</td>\n",
              "      <td>-2.849400e-02</td>\n",
              "      <td>-2.326211e-02</td>\n",
              "      <td>-1.948129e+00</td>\n",
              "      <td>-2.034626e-01</td>\n",
              "      <td>-4.505535e-01</td>\n",
              "    </tr>\n",
              "    <tr>\n",
              "      <th>25%</th>\n",
              "      <td>-1.345463e-01</td>\n",
              "      <td>-6.294418e-01</td>\n",
              "      <td>-7.415478e-01</td>\n",
              "      <td>-7.276666e-01</td>\n",
              "      <td>-6.782737e-01</td>\n",
              "      <td>-3.177398e-01</td>\n",
              "      <td>3.384508e-01</td>\n",
              "      <td>-6.736693e-01</td>\n",
              "      <td>-1.472689e-01</td>\n",
              "      <td>-6.233391e-01</td>\n",
              "      <td>...</td>\n",
              "      <td>-6.487757e-02</td>\n",
              "      <td>-4.464212e-01</td>\n",
              "      <td>-9.914992e-02</td>\n",
              "      <td>-2.016541e-01</td>\n",
              "      <td>-2.327280e-01</td>\n",
              "      <td>-2.849400e-02</td>\n",
              "      <td>-2.326211e-02</td>\n",
              "      <td>5.132436e-01</td>\n",
              "      <td>-2.034626e-01</td>\n",
              "      <td>-4.505535e-01</td>\n",
              "    </tr>\n",
              "    <tr>\n",
              "      <th>50%</th>\n",
              "      <td>-7.814433e-02</td>\n",
              "      <td>6.523304e-02</td>\n",
              "      <td>-7.922666e-02</td>\n",
              "      <td>-2.441691e-01</td>\n",
              "      <td>-3.723036e-01</td>\n",
              "      <td>-3.105411e-01</td>\n",
              "      <td>3.384508e-01</td>\n",
              "      <td>-2.569172e-01</td>\n",
              "      <td>-1.472689e-01</td>\n",
              "      <td>-6.123100e-02</td>\n",
              "      <td>...</td>\n",
              "      <td>-6.487757e-02</td>\n",
              "      <td>-4.464212e-01</td>\n",
              "      <td>-9.914992e-02</td>\n",
              "      <td>-2.016541e-01</td>\n",
              "      <td>-2.327280e-01</td>\n",
              "      <td>-2.849400e-02</td>\n",
              "      <td>-2.326211e-02</td>\n",
              "      <td>5.132436e-01</td>\n",
              "      <td>-2.034626e-01</td>\n",
              "      <td>-4.505535e-01</td>\n",
              "    </tr>\n",
              "    <tr>\n",
              "      <th>75%</th>\n",
              "      <td>-1.558880e-02</td>\n",
              "      <td>7.304242e-01</td>\n",
              "      <td>5.855149e-01</td>\n",
              "      <td>4.300035e-01</td>\n",
              "      <td>2.175798e-01</td>\n",
              "      <td>-2.939664e-01</td>\n",
              "      <td>3.384508e-01</td>\n",
              "      <td>4.110391e-01</td>\n",
              "      <td>-1.472689e-01</td>\n",
              "      <td>5.142554e-01</td>\n",
              "      <td>...</td>\n",
              "      <td>-6.487757e-02</td>\n",
              "      <td>-4.464212e-01</td>\n",
              "      <td>-9.914992e-02</td>\n",
              "      <td>-2.016541e-01</td>\n",
              "      <td>-2.327280e-01</td>\n",
              "      <td>-2.849400e-02</td>\n",
              "      <td>-2.326211e-02</td>\n",
              "      <td>5.132436e-01</td>\n",
              "      <td>-2.034626e-01</td>\n",
              "      <td>-4.505535e-01</td>\n",
              "    </tr>\n",
              "    <tr>\n",
              "      <th>max</th>\n",
              "      <td>4.179198e+01</td>\n",
              "      <td>2.617834e+00</td>\n",
              "      <td>5.355767e+00</td>\n",
              "      <td>9.255536e+00</td>\n",
              "      <td>1.282041e+01</td>\n",
              "      <td>3.286092e+00</td>\n",
              "      <td>1.153992e+00</td>\n",
              "      <td>9.362184e+00</td>\n",
              "      <td>6.789380e+00</td>\n",
              "      <td>9.204354e+00</td>\n",
              "      <td>...</td>\n",
              "      <td>1.541156e+01</td>\n",
              "      <td>2.239734e+00</td>\n",
              "      <td>1.008437e+01</td>\n",
              "      <td>4.958317e+00</td>\n",
              "      <td>4.296281e+00</td>\n",
              "      <td>3.509036e+01</td>\n",
              "      <td>4.298256e+01</td>\n",
              "      <td>5.132436e-01</td>\n",
              "      <td>4.914244e+00</td>\n",
              "      <td>2.219192e+00</td>\n",
              "    </tr>\n",
              "  </tbody>\n",
              "</table>\n",
              "<p>8 rows × 36 columns</p>\n",
              "</div>"
            ],
            "text/plain": [
              "        avglinksize  commonlinkratio_1  commonlinkratio_2  commonlinkratio_3  \\\n",
              "count  7.395000e+03       7.395000e+03       7.395000e+03       7.395000e+03   \n",
              "mean  -4.900295e-17       1.133794e-16      -4.323789e-17       1.018493e-16   \n",
              "std    1.000000e+00       1.000000e+00       1.000000e+00       1.000000e+00   \n",
              "min   -3.204048e-01      -2.305040e+00      -1.458879e+00      -9.592006e-01   \n",
              "25%   -1.345463e-01      -6.294418e-01      -7.415478e-01      -7.276666e-01   \n",
              "50%   -7.814433e-02       6.523304e-02      -7.922666e-02      -2.441691e-01   \n",
              "75%   -1.558880e-02       7.304242e-01       5.855149e-01       4.300035e-01   \n",
              "max    4.179198e+01       2.617834e+00       5.355767e+00       9.255536e+00   \n",
              "\n",
              "       commonlinkratio_4  compression_ratio   embed_ratio  frameTagRatio  \\\n",
              "count       7.395000e+03       7.395000e+03  7.395000e+03   7.395000e+03   \n",
              "mean        7.926947e-18       4.996379e-17 -1.345179e-17   1.671865e-16   \n",
              "std         1.000000e+00       1.000000e+00  1.000000e+00   1.000000e+00   \n",
              "min        -6.782737e-01      -3.953330e-01 -2.923712e+00  -1.361367e+00   \n",
              "25%        -6.782737e-01      -3.177398e-01  3.384508e-01  -6.736693e-01   \n",
              "50%        -3.723036e-01      -3.105411e-01  3.384508e-01  -2.569172e-01   \n",
              "75%         2.175798e-01      -2.939664e-01  3.384508e-01   4.110391e-01   \n",
              "max         1.282041e+01       3.286092e+00  1.153992e+00   9.362184e+00   \n",
              "\n",
              "       hasDomainLink    html_ratio  ...  alchemy_category_law_crime  \\\n",
              "count   7.395000e+03  7.395000e+03  ...                7.395000e+03   \n",
              "mean   -2.642316e-18  3.535899e-16  ...               -1.056926e-17   \n",
              "std     1.000000e+00  1.000000e+00  ...                1.000000e+00   \n",
              "min    -1.472689e-01 -3.585945e+00  ...               -6.487757e-02   \n",
              "25%    -1.472689e-01 -6.233391e-01  ...               -6.487757e-02   \n",
              "50%    -1.472689e-01 -6.123100e-02  ...               -6.487757e-02   \n",
              "75%    -1.472689e-01  5.142554e-01  ...               -6.487757e-02   \n",
              "max     6.789380e+00  9.204354e+00  ...                1.541156e+01   \n",
              "\n",
              "       alchemy_category_recreation  alchemy_category_religion  \\\n",
              "count                 7.395000e+03               7.395000e+03   \n",
              "mean                  1.249095e-17               3.362947e-17   \n",
              "std                   1.000000e+00               1.000000e+00   \n",
              "min                  -4.464212e-01              -9.914992e-02   \n",
              "25%                  -4.464212e-01              -9.914992e-02   \n",
              "50%                  -4.464212e-01              -9.914992e-02   \n",
              "75%                  -4.464212e-01              -9.914992e-02   \n",
              "max                   2.239734e+00               1.008437e+01   \n",
              "\n",
              "       alchemy_category_science_technology  alchemy_category_sports  \\\n",
              "count                         7.395000e+03             7.395000e+03   \n",
              "mean                         -4.804211e-17             2.594274e-17   \n",
              "std                           1.000000e+00             1.000000e+00   \n",
              "min                          -2.016541e-01            -2.327280e-01   \n",
              "25%                          -2.016541e-01            -2.327280e-01   \n",
              "50%                          -2.016541e-01            -2.327280e-01   \n",
              "75%                          -2.016541e-01            -2.327280e-01   \n",
              "max                           4.958317e+00             4.296281e+00   \n",
              "\n",
              "       alchemy_category_unknown  alchemy_category_weather  news_front_page_0  \\\n",
              "count              7.395000e+03              7.395000e+03       7.395000e+03   \n",
              "mean               4.804211e-18              1.825600e-17       1.287528e-16   \n",
              "std                1.000000e+00              1.000000e+00       1.000000e+00   \n",
              "min               -2.849400e-02             -2.326211e-02      -1.948129e+00   \n",
              "25%               -2.849400e-02             -2.326211e-02       5.132436e-01   \n",
              "50%               -2.849400e-02             -2.326211e-02       5.132436e-01   \n",
              "75%               -2.849400e-02             -2.326211e-02       5.132436e-01   \n",
              "max                3.509036e+01              4.298256e+01       5.132436e-01   \n",
              "\n",
              "       news_front_page_1  news_front_page_?  \n",
              "count       7.395000e+03       7.395000e+03  \n",
              "mean        7.974989e-17      -1.321158e-17  \n",
              "std         1.000000e+00       1.000000e+00  \n",
              "min        -2.034626e-01      -4.505535e-01  \n",
              "25%        -2.034626e-01      -4.505535e-01  \n",
              "50%        -2.034626e-01      -4.505535e-01  \n",
              "75%        -2.034626e-01      -4.505535e-01  \n",
              "max         4.914244e+00       2.219192e+00  \n",
              "\n",
              "[8 rows x 36 columns]"
            ]
          },
          "execution_count": 34,
          "metadata": {},
          "output_type": "execute_result"
        }
      ]
    },
    {
      "cell_type": "code",
      "metadata": {
        "id": "F4QRjc-KnXID"
      },
      "source": [
        "from sklearn.model_selection import train_test_split \n",
        "\n",
        "X_train, X_test , Y_train , Y_test = train_test_split(features,target,test_size=0.20)\n",
        "\n"
      ],
      "execution_count": null,
      "outputs": []
    },
    {
      "cell_type": "code",
      "metadata": {
        "id": "Tq16Z7kVnXIE"
      },
      "source": [
        "from sklearn.dummy import DummyClassifier\n",
        "from sklearn.linear_model import LogisticRegression\n",
        "from sklearn.linear_model import LogisticRegressionCV\n",
        "from sklearn.ensemble import RandomForestClassifier \n",
        "\n",
        "baseline = DummyClassifier(strategy='most_frequent')\n",
        "\n",
        "lg_model = LogisticRegression(penalty='none')\n",
        "\n",
        "lg_CV = LogisticRegressionCV() \n",
        "\n",
        "random_forest = RandomForestClassifier()"
      ],
      "execution_count": null,
      "outputs": []
    },
    {
      "cell_type": "code",
      "metadata": {
        "id": "mhJso5t7nXIE",
        "outputId": "e0920dd0-30eb-4386-b93e-15f0a835c504"
      },
      "source": [
        "baseline.fit(X_train,Y_train)\n",
        "lg_model.fit(X_train,Y_train) \n",
        "lg_CV.fit(X_train,Y_train)\n",
        "random_forest.fit(X_train,Y_train)"
      ],
      "execution_count": null,
      "outputs": [
        {
          "data": {
            "text/plain": [
              "RandomForestClassifier()"
            ]
          },
          "execution_count": 37,
          "metadata": {},
          "output_type": "execute_result"
        }
      ]
    },
    {
      "cell_type": "code",
      "metadata": {
        "id": "KlQ8B1Z4nXIE"
      },
      "source": [
        "baseline_preds = baseline.predict(X_test)\n",
        "lg_preds = lg_model.predict(X_test)\n",
        "lg_CV_preds = lg_CV.predict(X_test)\n",
        "random_forest_preds=random_forest.predict(X_test)\n",
        "\n"
      ],
      "execution_count": null,
      "outputs": []
    },
    {
      "cell_type": "code",
      "metadata": {
        "id": "KGyn-nyLnXIF",
        "outputId": "30775a7d-aaa5-4947-e0f0-6d6daa819796"
      },
      "source": [
        "from sklearn.metrics import classification_report \n",
        "print(classification_report(Y_test,baseline_preds))\n"
      ],
      "execution_count": null,
      "outputs": [
        {
          "name": "stdout",
          "output_type": "stream",
          "text": [
            "              precision    recall  f1-score   support\n",
            "\n",
            "           0       0.00      0.00      0.00       742\n",
            "           1       0.50      1.00      0.67       737\n",
            "\n",
            "    accuracy                           0.50      1479\n",
            "   macro avg       0.25      0.50      0.33      1479\n",
            "weighted avg       0.25      0.50      0.33      1479\n",
            "\n"
          ]
        },
        {
          "name": "stderr",
          "output_type": "stream",
          "text": [
            "C:\\Users\\dell\\AppData\\Local\\Programs\\Python\\Python37\\lib\\site-packages\\sklearn\\metrics\\_classification.py:1245: UndefinedMetricWarning: Precision and F-score are ill-defined and being set to 0.0 in labels with no predicted samples. Use `zero_division` parameter to control this behavior.\n",
            "  _warn_prf(average, modifier, msg_start, len(result))\n",
            "C:\\Users\\dell\\AppData\\Local\\Programs\\Python\\Python37\\lib\\site-packages\\sklearn\\metrics\\_classification.py:1245: UndefinedMetricWarning: Precision and F-score are ill-defined and being set to 0.0 in labels with no predicted samples. Use `zero_division` parameter to control this behavior.\n",
            "  _warn_prf(average, modifier, msg_start, len(result))\n",
            "C:\\Users\\dell\\AppData\\Local\\Programs\\Python\\Python37\\lib\\site-packages\\sklearn\\metrics\\_classification.py:1245: UndefinedMetricWarning: Precision and F-score are ill-defined and being set to 0.0 in labels with no predicted samples. Use `zero_division` parameter to control this behavior.\n",
            "  _warn_prf(average, modifier, msg_start, len(result))\n"
          ]
        }
      ]
    },
    {
      "cell_type": "code",
      "metadata": {
        "id": "knKa6-iSnXIF",
        "outputId": "ac3796c9-cb13-45e8-f7e7-a9d17556aa97"
      },
      "source": [
        "print(classification_report(Y_test,lg_preds))"
      ],
      "execution_count": null,
      "outputs": [
        {
          "name": "stdout",
          "output_type": "stream",
          "text": [
            "              precision    recall  f1-score   support\n",
            "\n",
            "           0       0.69      0.58      0.63       742\n",
            "           1       0.64      0.74      0.69       737\n",
            "\n",
            "    accuracy                           0.66      1479\n",
            "   macro avg       0.66      0.66      0.66      1479\n",
            "weighted avg       0.66      0.66      0.66      1479\n",
            "\n"
          ]
        }
      ]
    },
    {
      "cell_type": "code",
      "metadata": {
        "id": "ICrli6T4nXIF",
        "outputId": "4e6fc90c-b4a2-45e2-c361-e3a73437cdcc"
      },
      "source": [
        "print(classification_report(Y_test,lg_CV_preds))"
      ],
      "execution_count": null,
      "outputs": [
        {
          "name": "stdout",
          "output_type": "stream",
          "text": [
            "              precision    recall  f1-score   support\n",
            "\n",
            "           0       0.69      0.58      0.63       742\n",
            "           1       0.64      0.74      0.69       737\n",
            "\n",
            "    accuracy                           0.66      1479\n",
            "   macro avg       0.66      0.66      0.66      1479\n",
            "weighted avg       0.66      0.66      0.66      1479\n",
            "\n"
          ]
        }
      ]
    },
    {
      "cell_type": "code",
      "metadata": {
        "id": "OrBSP0CbnXIG",
        "outputId": "6171c5b8-545a-4cfe-f5af-357c47500b80"
      },
      "source": [
        "print(classification_report(Y_test,random_forest_preds))"
      ],
      "execution_count": null,
      "outputs": [
        {
          "name": "stdout",
          "output_type": "stream",
          "text": [
            "              precision    recall  f1-score   support\n",
            "\n",
            "           0       0.70      0.69      0.70       742\n",
            "           1       0.69      0.70      0.70       737\n",
            "\n",
            "    accuracy                           0.70      1479\n",
            "   macro avg       0.70      0.70      0.70      1479\n",
            "weighted avg       0.70      0.70      0.70      1479\n",
            "\n"
          ]
        }
      ]
    },
    {
      "cell_type": "code",
      "metadata": {
        "id": "3L2mJhpmnXIG",
        "outputId": "a6c54ec8-0b2c-4792-98e4-70cdf25f2232"
      },
      "source": [
        ""
      ],
      "execution_count": null,
      "outputs": [
        {
          "data": {
            "text/plain": [
              "Index(['avglinksize', 'commonlinkratio_1', 'commonlinkratio_2',\n",
              "       'commonlinkratio_3', 'commonlinkratio_4', 'compression_ratio',\n",
              "       'embed_ratio', 'frameTagRatio', 'hasDomainLink', 'html_ratio',\n",
              "       'image_ratio', 'is_news', 'lengthyLinkDomain', 'linkwordscore',\n",
              "       'non_markup_alphanum_characters', 'numberOfLinks', 'numwords_in_url',\n",
              "       'parametrizedLinkRatio', 'spelling_errors_ratio', 'alchemy_category_?',\n",
              "       'alchemy_category_arts_entertainment', 'alchemy_category_business',\n",
              "       'alchemy_category_computer_internet',\n",
              "       'alchemy_category_culture_politics', 'alchemy_category_gaming',\n",
              "       'alchemy_category_health', 'alchemy_category_law_crime',\n",
              "       'alchemy_category_recreation', 'alchemy_category_religion',\n",
              "       'alchemy_category_science_technology', 'alchemy_category_sports',\n",
              "       'alchemy_category_unknown', 'alchemy_category_weather',\n",
              "       'news_front_page_0', 'news_front_page_1', 'news_front_page_?'],\n",
              "      dtype='object')"
            ]
          },
          "execution_count": 78,
          "metadata": {},
          "output_type": "execute_result"
        }
      ]
    },
    {
      "cell_type": "code",
      "metadata": {
        "id": "hs3SvxHKnXIG",
        "outputId": "e8b17b6b-6dc9-445b-b005-66faf0bc3f0e"
      },
      "source": [
        "from sklearn.neighbors import KNeighborsClassifier\n",
        "from sklearn.linear_model import SGDClassifier \n",
        "from sklearn.ensemble import VotingClassifier \n",
        "from sklearn.svm import LinearSVC \n",
        "knn = KNeighborsClassifier(n_neighbors=2)\n",
        "lsvc = LinearSVC() \n",
        "sgd = SGDClassifier(random_state=0)\n",
        "\n",
        "modelV = VotingClassifier([('LGCV',lg_CV),('RF',random_forest),\n",
        "('knn',knn),('svc',lsvc),('sgf',sgd)],voting='hard')\n",
        "for model in (lg_CV,random_forest,knn,lsvc,sgd,modelV):\n",
        "    model.fit(X_train,Y_train) \n",
        "    print(model.__class__.__name__,model.score(X_test,Y_test))\n",
        "\n"
      ],
      "execution_count": null,
      "outputs": [
        {
          "name": "stdout",
          "output_type": "stream",
          "text": [
            "LogisticRegressionCV 0.6599053414469236\n",
            "RandomForestClassifier 0.6997971602434077\n",
            "KNeighborsClassifier 0.6139283299526708\n"
          ]
        },
        {
          "name": "stderr",
          "output_type": "stream",
          "text": [
            "C:\\Users\\dell\\AppData\\Local\\Programs\\Python\\Python37\\lib\\site-packages\\sklearn\\svm\\_base.py:986: ConvergenceWarning: Liblinear failed to converge, increase the number of iterations.\n",
            "  \"the number of iterations.\", ConvergenceWarning)\n"
          ]
        },
        {
          "name": "stdout",
          "output_type": "stream",
          "text": [
            "LinearSVC 0.6612576064908722\n",
            "SGDClassifier 0.6470588235294118\n"
          ]
        },
        {
          "name": "stderr",
          "output_type": "stream",
          "text": [
            "C:\\Users\\dell\\AppData\\Local\\Programs\\Python\\Python37\\lib\\site-packages\\sklearn\\svm\\_base.py:986: ConvergenceWarning: Liblinear failed to converge, increase the number of iterations.\n",
            "  \"the number of iterations.\", ConvergenceWarning)\n"
          ]
        },
        {
          "name": "stdout",
          "output_type": "stream",
          "text": [
            "VotingClassifier 0.6646382691007438\n"
          ]
        }
      ]
    },
    {
      "cell_type": "code",
      "metadata": {
        "id": "8_52mecEnXIH",
        "outputId": "7d322396-0c15-46f0-b4ef-9933cb1ea27b"
      },
      "source": [
        "from sklearn.ensemble import BaggingClassifier \n",
        "\n",
        "bgg = BaggingClassifier(base_estimator=LogisticRegression(),n_estimators=100) \n",
        "\n",
        "bgg.fit(X_train,Y_train)\n",
        "\n",
        "print(bgg.score(X_test,Y_test)) "
      ],
      "execution_count": null,
      "outputs": [
        {
          "name": "stdout",
          "output_type": "stream",
          "text": [
            "0.6646382691007438\n"
          ]
        }
      ]
    },
    {
      "cell_type": "code",
      "metadata": {
        "id": "GLPEBSzQnXIH",
        "outputId": "f9230ff2-f412-40e4-ab33-2f72e15064bf"
      },
      "source": [
        "from sklearn.ensemble import GradientBoostingClassifier \n",
        "\n",
        "GD = GradientBoostingClassifier(n_estimators=100,learning_rate=0.2)\n",
        "\n",
        "GD.fit(X_train,Y_train)\n",
        "\n",
        "print(GD.score(X_test,Y_test)) "
      ],
      "execution_count": null,
      "outputs": [
        {
          "name": "stdout",
          "output_type": "stream",
          "text": [
            "0.6991210277214334\n"
          ]
        }
      ]
    },
    {
      "cell_type": "code",
      "metadata": {
        "id": "i1JR6dbbnXIH",
        "outputId": "0286c697-0617-4e08-d676-aed013bc9921"
      },
      "source": [
        "from sklearn.ensemble import AdaBoostClassifier \n",
        "GD = AdaBoostClassifier(n_estimators=100)\n",
        "\n",
        "GD.fit(X_train,Y_train)\n",
        "\n",
        "print(GD.score(X_test,Y_test))"
      ],
      "execution_count": null,
      "outputs": [
        {
          "name": "stdout",
          "output_type": "stream",
          "text": [
            "0.6910074374577417\n"
          ]
        }
      ]
    },
    {
      "cell_type": "code",
      "metadata": {
        "id": "zzw37GVwnXIH",
        "outputId": "92065e09-b806-4487-b9cf-5f1807dd64aa"
      },
      "source": [
        "from sklearn.ensemble import StackingClassifier \n",
        "modeST = StackingClassifier([('LGCV',lg_CV),('RF',random_forest),('svc',lsvc),('sgf',sgd)],final_estimator=KNeighborsClassifier())\n",
        "\n",
        "modeST.fit(X_train,Y_train)\n",
        "\n",
        "print(modeST.score(X_test,Y_test))\n"
      ],
      "execution_count": null,
      "outputs": [
        {
          "name": "stderr",
          "output_type": "stream",
          "text": [
            "C:\\Users\\dell\\AppData\\Local\\Programs\\Python\\Python37\\lib\\site-packages\\sklearn\\svm\\_base.py:986: ConvergenceWarning: Liblinear failed to converge, increase the number of iterations.\n",
            "  \"the number of iterations.\", ConvergenceWarning)\n",
            "C:\\Users\\dell\\AppData\\Local\\Programs\\Python\\Python37\\lib\\site-packages\\sklearn\\svm\\_base.py:986: ConvergenceWarning: Liblinear failed to converge, increase the number of iterations.\n",
            "  \"the number of iterations.\", ConvergenceWarning)\n",
            "C:\\Users\\dell\\AppData\\Local\\Programs\\Python\\Python37\\lib\\site-packages\\sklearn\\svm\\_base.py:986: ConvergenceWarning: Liblinear failed to converge, increase the number of iterations.\n",
            "  \"the number of iterations.\", ConvergenceWarning)\n",
            "C:\\Users\\dell\\AppData\\Local\\Programs\\Python\\Python37\\lib\\site-packages\\sklearn\\svm\\_base.py:986: ConvergenceWarning: Liblinear failed to converge, increase the number of iterations.\n",
            "  \"the number of iterations.\", ConvergenceWarning)\n",
            "C:\\Users\\dell\\AppData\\Local\\Programs\\Python\\Python37\\lib\\site-packages\\sklearn\\svm\\_base.py:986: ConvergenceWarning: Liblinear failed to converge, increase the number of iterations.\n",
            "  \"the number of iterations.\", ConvergenceWarning)\n",
            "C:\\Users\\dell\\AppData\\Local\\Programs\\Python\\Python37\\lib\\site-packages\\sklearn\\svm\\_base.py:986: ConvergenceWarning: Liblinear failed to converge, increase the number of iterations.\n",
            "  \"the number of iterations.\", ConvergenceWarning)\n"
          ]
        },
        {
          "name": "stdout",
          "output_type": "stream",
          "text": [
            "0.6734279918864098\n"
          ]
        }
      ]
    },
    {
      "cell_type": "markdown",
      "metadata": {
        "id": "oMFu3OERnXII"
      },
      "source": [
        "## Submission in Kaggle"
      ]
    },
    {
      "cell_type": "code",
      "metadata": {
        "id": "UsyrZ0WxnXII",
        "outputId": "2a55a270-6569-4c1c-e39b-a37e4d993306"
      },
      "source": [
        "test_df = pd.read_csv(\"test.tsv\",sep='\\t') \n",
        "test = test_df.copy() \n",
        "del test['framebased']\n",
        "del test['urlid']\n",
        "del test['alchemy_category_score']\n",
        "test_df.is_news= test_df.is_news.str.replace('?','0').astype(int) \n",
        "features_df = preprocessor.fit_transform(df.drop('label', axis=1))\n",
        "\n",
        "\n",
        "test_features = preprocessor.transform(test_df[df.drop('label', axis=1).columns])\n",
        "predictions = GD.predict(test_features)\n",
        "features_df.shape\n"
      ],
      "execution_count": null,
      "outputs": [
        {
          "name": "stderr",
          "output_type": "stream",
          "text": [
            "C:\\Users\\dell\\AppData\\Local\\Programs\\Python\\Python37\\lib\\site-packages\\ipykernel_launcher.py:6: FutureWarning: The default value of regex will change from True to False in a future version. In addition, single character regular expressions will*not* be treated as literal strings when regex=True.\n",
            "  \n"
          ]
        },
        {
          "data": {
            "text/plain": [
              "(7395, 36)"
            ]
          },
          "execution_count": 87,
          "metadata": {},
          "output_type": "execute_result"
        }
      ]
    },
    {
      "cell_type": "code",
      "metadata": {
        "id": "7kIgaW9DnXII"
      },
      "source": [
        "# More robust way to do feature pre-processing.\n",
        "from sklearn.pipeline import Pipeline\n",
        "from sklearn.compose import ColumnTransformer\n",
        "from sklearn.preprocessing import OneHotEncoder, StandardScaler\n",
        "from sklearn.impute import SimpleImputer\n",
        "from sklearn.compose import ColumnTransformer\n",
        "\n",
        "features_df = df.drop('label', axis=1)\n",
        "FEATURE_COLUMNS = features_df.columns\n",
        "NUM_FEATURES = features_df.select_dtypes(include=[np.number]).columns\n",
        "CAT_FEATURES = ['alchemy_category', 'news_front_page']\n",
        "\n",
        "numeric_transformer = Pipeline(steps=[\n",
        "    ('imputer', SimpleImputer(missing_values=np.nan, strategy='constant', fill_value=0)),\n",
        "    ('scaler', StandardScaler()),\n",
        "])\n",
        "\n",
        "categorical_transformer = Pipeline(steps=[\n",
        "    ('imputer', SimpleImputer(strategy='constant', fill_value='missing')),\n",
        "    ('one_hot', OneHotEncoder(handle_unknown='ignore')),\n",
        "])\n",
        "\n",
        "preprocessor = ColumnTransformer(\n",
        "  transformers=[\n",
        "      ('num', numeric_transformer, NUM_FEATURES),\n",
        "      ('cat', categorical_transformer, CAT_FEATURES)\n",
        "  ])"
      ],
      "execution_count": null,
      "outputs": []
    },
    {
      "cell_type": "code",
      "metadata": {
        "id": "X3ykJ65NnXIJ",
        "outputId": "d00ba401-b1a2-43bb-f1eb-4b56a301d2c5"
      },
      "source": [
        "sub_df = pd.DataFrame({'urlid' : test_df.urlid, 'label': predictions})\n",
        "sub_df.head()"
      ],
      "execution_count": null,
      "outputs": [
        {
          "data": {
            "text/html": [
              "<div>\n",
              "<style scoped>\n",
              "    .dataframe tbody tr th:only-of-type {\n",
              "        vertical-align: middle;\n",
              "    }\n",
              "\n",
              "    .dataframe tbody tr th {\n",
              "        vertical-align: top;\n",
              "    }\n",
              "\n",
              "    .dataframe thead th {\n",
              "        text-align: right;\n",
              "    }\n",
              "</style>\n",
              "<table border=\"1\" class=\"dataframe\">\n",
              "  <thead>\n",
              "    <tr style=\"text-align: right;\">\n",
              "      <th></th>\n",
              "      <th>urlid</th>\n",
              "      <th>label</th>\n",
              "    </tr>\n",
              "  </thead>\n",
              "  <tbody>\n",
              "    <tr>\n",
              "      <th>0</th>\n",
              "      <td>5865</td>\n",
              "      <td>1</td>\n",
              "    </tr>\n",
              "    <tr>\n",
              "      <th>1</th>\n",
              "      <td>782</td>\n",
              "      <td>0</td>\n",
              "    </tr>\n",
              "    <tr>\n",
              "      <th>2</th>\n",
              "      <td>6962</td>\n",
              "      <td>0</td>\n",
              "    </tr>\n",
              "    <tr>\n",
              "      <th>3</th>\n",
              "      <td>7640</td>\n",
              "      <td>0</td>\n",
              "    </tr>\n",
              "    <tr>\n",
              "      <th>4</th>\n",
              "      <td>3589</td>\n",
              "      <td>0</td>\n",
              "    </tr>\n",
              "  </tbody>\n",
              "</table>\n",
              "</div>"
            ],
            "text/plain": [
              "   urlid  label\n",
              "0   5865      1\n",
              "1    782      0\n",
              "2   6962      0\n",
              "3   7640      0\n",
              "4   3589      0"
            ]
          },
          "execution_count": 88,
          "metadata": {},
          "output_type": "execute_result"
        }
      ]
    },
    {
      "cell_type": "code",
      "metadata": {
        "id": "0Uuk6llZnXIJ"
      },
      "source": [
        "sub_df.to_csv('mysubmission.csv', index=False) "
      ],
      "execution_count": null,
      "outputs": []
    },
    {
      "cell_type": "markdown",
      "metadata": {
        "id": "Brl0OJSWnzI0"
      },
      "source": [
        "After submitting the csv file on Kaggle I get 0.66 as a score the first competitor had 0.88. Let's see if the NLP method can improve our score. "
      ]
    },
    {
      "cell_type": "markdown",
      "metadata": {
        "id": "-7ro0JVznXIJ"
      },
      "source": [
        "## Could we improve the score by Text Feature that we ignore previously \n"
      ]
    },
    {
      "cell_type": "code",
      "metadata": {
        "id": "o0-glyU9nXIK"
      },
      "source": [
        "test_df = pd.read_csv(r\"C:\\Users\\dell\\Downloads\\train.tsv~\\test.tsv\",sep='\\t') \n",
        "train_df = pd.read_csv(r\"C:\\Users\\dell\\Downloads\\train.tsv~\\train.tsv\",sep='\\t')  \n",
        "lentrain= len(train_df)\n"
      ],
      "execution_count": null,
      "outputs": []
    },
    {
      "cell_type": "code",
      "metadata": {
        "id": "wzOB_pA-nXIK"
      },
      "source": [
        "L=[train_df.boilerplate, test_df.boilerplate]\n",
        "for elt in L :\n",
        "    elt.replace(to_replace=r'\"title\":', value=\"\",inplace=True,regex=True)\n",
        "    elt.replace(to_replace=r'\"url\":',value=\"\",inplace=True,regex=True) \n",
        "    elt.replace(to_replace=r'{|}',value=\"\",inplace=True,regex=True) \n",
        "    elt = elt.str.lower()\n",
        "    elt.to_list()\n"
      ],
      "execution_count": null,
      "outputs": []
    },
    {
      "cell_type": "code",
      "metadata": {
        "id": "8gB5dxJBnXIK"
      },
      "source": [
        "text_data = list(L[0])+ list(L[1])"
      ],
      "execution_count": null,
      "outputs": []
    },
    {
      "cell_type": "code",
      "metadata": {
        "id": "RDtuCDlonXIL"
      },
      "source": [
        ""
      ],
      "execution_count": null,
      "outputs": []
    },
    {
      "cell_type": "code",
      "metadata": {
        "id": "iOwGv0GwnXIL"
      },
      "source": [
        ""
      ],
      "execution_count": null,
      "outputs": []
    },
    {
      "cell_type": "code",
      "metadata": {
        "id": "9gNzGH20nXIL"
      },
      "source": [
        "from sklearn.feature_extraction.text import CountVectorizer , ENGLISH_STOP_WORDS , TfidfVectorizer\n",
        "from sklearn.model_selection import GridSearchCV , cross_val_score \n",
        "from sklearn.linear_model import LogisticRegression \n",
        "\n",
        "vect = TfidfVectorizer(stop_words='english', min_df=3,strip_accents='unicode',token_pattern=r'\\w{1,}',\n",
        "ngram_range=(1,3),use_idf=True, smooth_idf=True, sublinear_tf=True) \n",
        "\n",
        "vect.fit(text_data)\n",
        "X= vect.transform(text_data)\n"
      ],
      "execution_count": null,
      "outputs": []
    },
    {
      "cell_type": "code",
      "metadata": {
        "id": "HH3JfUu7nXIL"
      },
      "source": [
        "x_train = X[:lentrain] \n",
        "x_test = X[lentrain:] \n",
        "y_train = train_df.label.values"
      ],
      "execution_count": null,
      "outputs": []
    },
    {
      "cell_type": "code",
      "metadata": {
        "id": "r7P_i_djnXIL",
        "outputId": "f95bd739-edae-49a2-89ee-1a0618a21bd6"
      },
      "source": [
        "lr = LogisticRegression(penalty='l2',C=1,max_iter=10000,dual=False) \n",
        "lr.fit(x_train,y_train)\n",
        "lr_preds = lr.predict(x_test)\n",
        "print(classification_report(lr_preds,y_test))"
      ],
      "execution_count": null,
      "outputs": [
        {
          "name": "stdout",
          "output_type": "stream",
          "text": [
            "              precision    recall  f1-score   support\n",
            "\n",
            "           0       0.87      0.78      0.82       819\n",
            "           1       0.76      0.85      0.80       660\n",
            "\n",
            "    accuracy                           0.81      1479\n",
            "   macro avg       0.81      0.82      0.81      1479\n",
            "weighted avg       0.82      0.81      0.81      1479\n",
            "\n"
          ]
        }
      ]
    },
    {
      "cell_type": "code",
      "metadata": {
        "id": "IzS4A5j4nXIM",
        "outputId": "2a1a5f32-938d-46d0-e848-082524543d59"
      },
      "source": [
        "random_forest_model = RandomForestClassifier()\n",
        "random_forest_model.fit(x_train,y_train) \n",
        "rd_preds = random_forest_model.predict(x_test)\n",
        "print(random_forest_model.score(x_test,y_test))\n",
        "print(classification_report(rd_preds,y_test))"
      ],
      "execution_count": null,
      "outputs": [
        {
          "name": "stdout",
          "output_type": "stream",
          "text": [
            "0.795131845841785\n",
            "              precision    recall  f1-score   support\n",
            "\n",
            "           0       0.83      0.77      0.80       796\n",
            "           1       0.76      0.82      0.79       683\n",
            "\n",
            "    accuracy                           0.80      1479\n",
            "   macro avg       0.80      0.80      0.79      1479\n",
            "weighted avg       0.80      0.80      0.80      1479\n",
            "\n"
          ]
        }
      ]
    },
    {
      "cell_type": "code",
      "metadata": {
        "id": "dTJnOW3KnXIM",
        "outputId": "2c062c8f-cca0-4e24-833a-376267ee9779"
      },
      "source": [
        "from sklearn.svm import LinearSVC \n",
        "\n",
        "svc = LinearSVC() \n",
        "\n",
        "svc.fit(x_train,y_train) \n",
        "\n",
        "svc_preds = svc.predict(x_test)\n",
        "\n",
        "print(classification_report(svc_preds,y_test))\n",
        "\n",
        "print(svc.score(x_test,y_test)) "
      ],
      "execution_count": null,
      "outputs": [
        {
          "name": "stdout",
          "output_type": "stream",
          "text": [
            "              precision    recall  f1-score   support\n",
            "\n",
            "           0       0.82      0.78      0.80       773\n",
            "           1       0.77      0.81      0.79       706\n",
            "\n",
            "    accuracy                           0.79      1479\n",
            "   macro avg       0.79      0.80      0.79      1479\n",
            "weighted avg       0.80      0.79      0.79      1479\n",
            "\n",
            "0.7944557133198107\n"
          ]
        }
      ]
    },
    {
      "cell_type": "code",
      "metadata": {
        "id": "HgveRVR3nXIM"
      },
      "source": [
        "lr = LogisticRegression(penalty='l2',C=1,max_iter=10000,dual=False) \n",
        "lr.fit(x_train,y_train)\n",
        "lr_preds = lr.predict(x_test) \n",
        "\n",
        "#submission in kaggle and we will see if the score is improved using text \n",
        "\n",
        "urlidlist= test_df.urlid.values \n",
        "\n",
        "submission = pd.DataFrame({\"urlid\": urlidlist,\"label\":lr_preds}) \n",
        "\n",
        "submission.to_csv('My_submission.csv',index=False)\n",
        "\n"
      ],
      "execution_count": null,
      "outputs": []
    },
    {
      "cell_type": "markdown",
      "metadata": {
        "id": "bvUXb3eWoOw6"
      },
      "source": [
        " we get 0.80757 using text features that are powerful to prediction \n",
        "we went from 0.66876 to 0.80757 by using only the text feature \n",
        " we believe that the score will be more improved if we could using both text features and some of features we used in our first analysis\n",
        "\n",
        "some key solution observed is to use the most relevant features like alchemy category , and the text matrixes we get by thevectorizer and doing a PCA to reduce a dimension for example "
      ]
    },
    {
      "cell_type": "code",
      "metadata": {
        "id": "t9N2fus3nXIN"
      },
      "source": [
        "\n"
      ],
      "execution_count": null,
      "outputs": []
    },
    {
      "cell_type": "code",
      "metadata": {
        "id": "capr45uFnXIN"
      },
      "source": [
        "\n",
        "\n"
      ],
      "execution_count": null,
      "outputs": []
    },
    {
      "cell_type": "markdown",
      "metadata": {
        "id": "JUDXzt2pnXIN"
      },
      "source": [
        ""
      ]
    },
    {
      "cell_type": "code",
      "metadata": {
        "id": "At4hCbkMnXIN"
      },
      "source": [
        ""
      ],
      "execution_count": null,
      "outputs": []
    }
  ]
}